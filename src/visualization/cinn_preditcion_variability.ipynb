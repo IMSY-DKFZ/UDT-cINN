{
 "cells": [
  {
   "cell_type": "code",
   "execution_count": null,
   "metadata": {
    "collapsed": true
   },
   "outputs": [],
   "source": [
    "import plotly.express as px\n",
    "import numpy as np\n",
    "import torch\n",
    "import functools\n",
    "from pathlib import Path\n",
    "from tqdm import tqdm\n",
    "from torch.linalg import norm\n",
    "\n",
    "from src.trainers.gan_conditional_inn_trainer_hsi import GanCondinitionalDomainAdaptationINNHSI\n",
    "from src.utils.config_io import load_config\n",
    "from src import settings\n",
    "from src.utils.susi import ExperimentResults"
   ]
  },
  {
   "cell_type": "code",
   "execution_count": null,
   "outputs": [],
   "source": [
    "model_file = Path('/home/menjivar/DKFZ/Projects/MICCAI_23/results/gan_cinn_hsi/2023_02_20_21_06_28/version_0/checkpoints/epoch=699-step=641200.ckpt')\n",
    "config_file = Path('/home/menjivar/DKFZ/Projects/MICCAI_23/results/gan_cinn_hsi/2023_02_20_21_06_28/version_0/hparams.yaml')\n",
    "data_folder = Path('/home/menjivar/DKFZ/Projects/MICCAI_23/intermediates/semantic/val_synthetic_sampled')\n",
    "segmentation_folder = Path('/home/menjivar/DKFZ/Projects/MICCAI_23/intermediates/semantic/segmentation')"
   ],
   "metadata": {
    "collapsed": false
   }
  },
  {
   "cell_type": "code",
   "execution_count": null,
   "outputs": [],
   "source": [
    "ckpt = torch.load(model_file)\n",
    "config = load_config(config_file)"
   ],
   "metadata": {
    "collapsed": false
   }
  },
  {
   "cell_type": "code",
   "execution_count": null,
   "outputs": [],
   "source": [
    "ckpt['state_dict'].keys()"
   ],
   "metadata": {
    "collapsed": false
   }
  },
  {
   "cell_type": "code",
   "execution_count": null,
   "outputs": [],
   "source": [
    "config = load_config(config_file)\n",
    "model = GanCondinitionalDomainAdaptationINNHSI.load_from_checkpoint(model_file, experiment_config=config, strict=True)\n",
    "model.cuda().eval()"
   ],
   "metadata": {
    "collapsed": false
   }
  },
  {
   "cell_type": "code",
   "execution_count": null,
   "outputs": [],
   "source": [
    "def rgetattr(obj, attr, *args):\n",
    "    def _getattr(obj, attr):\n",
    "        return getattr(obj, attr, *args)\n",
    "    return functools.reduce(_getattr, [obj] + attr.split('.'))\n",
    "\n",
    "for key in ckpt['state_dict']:\n",
    "    torch.testing.assert_close(ckpt['state_dict'][key], rgetattr(model, key), rtol=1e-9, atol=1e-6)"
   ],
   "metadata": {
    "collapsed": false
   }
  },
  {
   "cell_type": "code",
   "execution_count": null,
   "outputs": [],
   "source": [
    "ignore_classes = ['gallbladder']\n",
    "organs = [o for o in settings.organ_labels if o not in ignore_classes]\n",
    "mapping_inv = {v: i for i, v in settings.mapping.items()}\n",
    "order = {int(mapping_inv[o]): i for i, o in enumerate(organs) if o not in ignore_classes}"
   ],
   "metadata": {
    "collapsed": false
   }
  },
  {
   "cell_type": "code",
   "execution_count": null,
   "outputs": [],
   "source": [
    "files = list(data_folder.glob('*.npy'))\n",
    "files = [f for f in files if '_ind.npy' not in str(f)]\n",
    "label_files = [segmentation_folder / Path(str(f.name).replace('_KNN_0', '')) for f in files]"
   ],
   "metadata": {
    "collapsed": false
   }
  },
  {
   "cell_type": "code",
   "execution_count": null,
   "outputs": [],
   "source": [
    "results = ExperimentResults()\n",
    "for i, f in enumerate(tqdm(files)):\n",
    "    subject_id, image_id = f.name.split('#')\n",
    "    image_id = image_id.split('.')[0].replace('_KNN_0', '')\n",
    "    x = np.load(f)\n",
    "    y = np.load(label_files[i])\n",
    "    ind = y != 9  # ignore gallbladder\n",
    "    y = y[ind]\n",
    "    x_tensor = torch.tensor(x[ind], dtype=torch.float32)\n",
    "    x_tensor = x_tensor / norm(x_tensor, ord=2)\n",
    "    if config.normalization == \"standardize\":\n",
    "        x_tensor = (x_tensor - config.data.mean_a) / config.data.std_a\n",
    "    y_tensor = torch.tensor(y, dtype=torch.float32)\n",
    "    batch = dict(spectra_a=x_tensor, seg_a=y_tensor, order=order, spectra_b=x_tensor)\n",
    "    spectra_a, spectra_b = model.get_spectra(batch)\n",
    "    output = model.translate_spectrum(spectra_a, input_domain=\"a\")[0].detach().cpu().numpy()\n",
    "    output = output * config.data.std_b + config.data.mean_b\n",
    "    for label in np.unique(y):\n",
    "        ind = y == label\n",
    "        agg = np.mean(output[ind], axis=0)\n",
    "        variation = np.std(output[ind], axis=0)\n",
    "        results.append(value=variation, name='variation')\n",
    "        results.append(value=agg, name='agg')\n",
    "        results.append(value=np.arange(500, 1000, 5), name='wavelength')\n",
    "        results.append(value=[label for _ in agg], name='label')\n",
    "        results.append(value=[settings.mapping.get(str(label)) for _ in agg], name='organ')\n",
    "        results.append(value=[image_id for _ in agg], name='image_id')\n",
    "        results.append(value=[subject_id for _ in agg], name='subject_id')"
   ],
   "metadata": {
    "collapsed": false
   }
  },
  {
   "cell_type": "code",
   "execution_count": null,
   "outputs": [],
   "source": [
    "results_df = results.get_df()"
   ],
   "metadata": {
    "collapsed": false
   }
  },
  {
   "cell_type": "code",
   "execution_count": null,
   "outputs": [],
   "source": [
    "px.line(data_frame=results_df,\n",
    "        x='wavelength',\n",
    "        y='agg',\n",
    "        color='organ',\n",
    "        line_group='image_id',\n",
    "        )"
   ],
   "metadata": {
    "collapsed": false
   }
  },
  {
   "cell_type": "code",
   "execution_count": null,
   "outputs": [],
   "source": [
    "px.line(data_frame=results_df,\n",
    "        x='wavelength',\n",
    "        y='variation',\n",
    "        color='organ',\n",
    "        line_group='image_id',\n",
    "        )"
   ],
   "metadata": {
    "collapsed": false
   }
  },
  {
   "cell_type": "code",
   "execution_count": null,
   "outputs": [],
   "source": [
    "px.line(output[:10].T, line_shape='spline')"
   ],
   "metadata": {
    "collapsed": false
   }
  },
  {
   "cell_type": "code",
   "execution_count": null,
   "outputs": [],
   "source": [],
   "metadata": {
    "collapsed": false
   }
  }
 ],
 "metadata": {
  "kernelspec": {
   "display_name": "Python 3",
   "language": "python",
   "name": "python3"
  },
  "language_info": {
   "codemirror_mode": {
    "name": "ipython",
    "version": 2
   },
   "file_extension": ".py",
   "mimetype": "text/x-python",
   "name": "python",
   "nbconvert_exporter": "python",
   "pygments_lexer": "ipython2",
   "version": "2.7.6"
  }
 },
 "nbformat": 4,
 "nbformat_minor": 0
}
