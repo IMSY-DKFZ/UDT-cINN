{
 "cells": [
  {
   "cell_type": "code",
   "execution_count": 1,
   "metadata": {
    "execution": {
     "iopub.execute_input": "2023-08-08T09:51:31.483424Z",
     "iopub.status.busy": "2023-08-08T09:51:31.483080Z",
     "iopub.status.idle": "2023-08-08T09:51:33.150896Z",
     "shell.execute_reply": "2023-08-08T09:51:33.150364Z"
    }
   },
   "outputs": [],
   "source": [
    "import os\n",
    "\n",
    "import numpy as np\n",
    "import plotly.express as px\n",
    "from plotly.subplots import make_subplots\n",
    "import plotly.graph_objects as go\n",
    "\n",
    "import pandas as pd\n",
    "import joblib\n",
    "import seaborn as sns\n",
    "import matplotlib.pyplot as plt\n",
    "\n",
    "from src import settings\n",
    "from src.visualization.plot import line\n",
    "from src.data.utils import get_organ_labels\n",
    "from src.visualization.templates import cmap_qualitative, cmap_quantitative_list\n",
    "from src.data.utils import get_label_mapping, get_pa_label_mapping\n",
    "from src.utils.susi import ExperimentResults"
   ]
  },
  {
   "cell_type": "code",
   "execution_count": 2,
   "metadata": {
    "execution": {
     "iopub.execute_input": "2023-08-08T09:51:33.153416Z",
     "iopub.status.busy": "2023-08-08T09:51:33.153230Z",
     "iopub.status.idle": "2023-08-08T09:51:33.160222Z",
     "shell.execute_reply": "2023-08-08T09:51:33.159693Z"
    }
   },
   "outputs": [],
   "source": [
    "organs_to_plot = ['stomach', 'small_bowel', 'liver', 'spleen', 'fat']\n",
    "organs_to_plot = ['colon', 'stomach', 'omentum', 'spleen', 'fat']\n",
    "font_type = \"NewComputerModern10\"\n",
    "def prepare_data(df: pd.DataFrame):\n",
    "    to_replace = {\n",
    "        'simulated_sampled': 'simulated',\n",
    "        'small_bowel': 'small bowel',\n",
    "        'inn': 'cINN',\n",
    "        'unit': 'UNIT',\n",
    "        'real - inn': 'real - cINN',\n",
    "        'real - unit': 'real - UNIT',\n",
    "        'per_class_f1': 'F1',\n",
    "        'per_class_auroc': 'AUC',\n",
    "        'per_class_accuracy': 'accuracy',\n",
    "        'UNIT_y': 'UNIT',\n",
    "        'cINN_d': 'cINN<sub>D</sub>',\n",
    "        'cINN_dy': 'cINN'\n",
    "    }\n",
    "    to_rename = {\n",
    "        'wavelength': 'wavelength [nm]',\n",
    "        'reflectance': 'reflectance [a.u.]',\n",
    "        'dataset': 'data',\n",
    "        'source': 'data',\n",
    "        'pai_signal': 'PA signal [a.u.]',\n",
    "        'waic': 'WAIC [a.u.]',\n",
    "        'difference': 'difference [a.u.]',\n",
    "        'metric diff': 'metric relative to simulations'\n",
    "    }\n",
    "    new_df = df.replace(to_replace, inplace=False)\n",
    "    new_df.rename(to_rename, inplace=True, axis=1)\n",
    "    to_rename.update(to_replace)\n",
    "    return new_df, to_rename\n",
    "\n",
    "def compute_metric_diff(df: pd.DataFrame) -> pd.DataFrame:\n",
    "    base = df[df.data == 'simulated']\n",
    "    metric_diff = ExperimentResults()\n",
    "    for source in df.data.unique():\n",
    "        tmp = df[df.data == source]\n",
    "        for metric in tmp.metric.unique():\n",
    "            clf_metric = tmp[tmp.metric == metric]['metric value'].values[0]\n",
    "            base_metric = base[base.metric == metric]['metric value'].values[0]\n",
    "            diff = clf_metric - base_metric\n",
    "            metric_diff.append(name=\"metric diff\", value=diff)\n",
    "            metric_diff.append(name=\"metric\", value=metric)\n",
    "            metric_diff.append(name=\"data\", value=source)\n",
    "    metric_df = metric_diff.get_df()\n",
    "    real_baseline = metric_df[metric_df.data == 'real']\n",
    "    metric_df = metric_df[\n",
    "        (~metric_df.data.isin(['simulated', 'real']))\n",
    "        # & (~metric_df.metric.isin(['F1-Score']))\n",
    "        & (~metric_df.data.isin(['cINN_d', 'UNIT']))\n",
    "    ]\n",
    "    metric_df, mapper = prepare_data(metric_df)\n",
    "    return metric_df, mapper, real_baseline"
   ]
  },
  {
   "cell_type": "markdown",
   "metadata": {},
   "source": [
    "# plot HSI classification metrics"
   ]
  },
  {
   "cell_type": "code",
   "execution_count": 3,
   "metadata": {
    "execution": {
     "iopub.execute_input": "2023-08-08T09:51:33.162356Z",
     "iopub.status.busy": "2023-08-08T09:51:33.161924Z",
     "iopub.status.idle": "2023-08-08T09:51:33.165555Z",
     "shell.execute_reply": "2023-08-08T09:51:33.165050Z"
    }
   },
   "outputs": [],
   "source": [
    "# metrics_file = settings.results_dir / 'rf' / 'rf_classifier_metrics.csv'\n",
    "# df = pd.read_csv(metrics_file, index_col=None, header=[0])\n",
    "# df = df.melt(id_vars=[\"data\"], value_name=\"metric value\", var_name=\"metric\")\n",
    "# metric_df, mapper, real_base = compute_metric_diff(df=df)\n",
    "# fig = px.bar(\n",
    "#     data_frame=metric_df,\n",
    "#     x=\"data\",\n",
    "#     y=mapper.get('metric diff'),\n",
    "#     color=\"data\",\n",
    "#     facet_col=\"metric\",\n",
    "#     color_discrete_map=cmap_qualitative,\n",
    "#     template=\"plotly_white\",\n",
    "# )\n",
    "# fig.add_shape(\n",
    "#     type=\"line\",\n",
    "#     x0=-0.4,\n",
    "#     x1=0.4,\n",
    "#     y0=0,\n",
    "#     y1=0,\n",
    "#     line=dict(\n",
    "#         color=cmap_qualitative['UNIT'],\n",
    "#         width=6,\n",
    "#     )\n",
    "# )\n",
    "# fig.add_hline(\n",
    "#     y=0,\n",
    "#     line_color=cmap_qualitative.get('simulated'),\n",
    "#     annotation_font={'color': cmap_qualitative.get('simulated')},\n",
    "#     line_dash=\"dash\",\n",
    "#     line_width=4,\n",
    "#     annotation_text=\"\",\n",
    "#     annotation_position=\"bottom right\",\n",
    "#     annotation_font_size=14,\n",
    "#     annotation_font_color=cmap_qualitative.get('simulated'),\n",
    "#     row=\"all\",\n",
    "#     col=\"all\"\n",
    "#     )\n",
    "# font_size = 28\n",
    "# fig.update_xaxes(title_font=dict(size=font_size, family=font_type),\n",
    "#                  tickangle=270,\n",
    "#                  showticklabels=False,\n",
    "#                  title=\"\"\n",
    "#                  )\n",
    "# fig.update_yaxes(title_font=dict(size=font_size, family=font_type))\n",
    "# # fig.for_each_yaxis(lambda yaxis: yaxis.update(showticklabels=True))\n",
    "# fig.for_each_annotation(lambda a: a.update(text=a.text.split(\"=\")[-1]))\n",
    "# fig.update_layout(font=dict(size=font_size, family=font_type, color=\"#000000\"),\n",
    "#                   legend=dict(orientation=\"h\", xanchor=\"center\", x=0.5, y=0., title=\"\"),\n",
    "#                   margin=dict(l=0, r=0, t=30, b=0))\n",
    "# fig.write_image(settings.figures_dir / 'manuscript' / 'semantic_metrics.pdf')\n",
    "# fig.write_image(settings.figures_dir / 'manuscript' / 'semantic_metrics.png', scale=2)\n",
    "# fig.write_image(settings.figures_dir / 'manuscript' / 'semantic_metrics.svg')\n",
    "#"
   ]
  },
  {
   "cell_type": "code",
   "execution_count": 4,
   "metadata": {
    "execution": {
     "iopub.execute_input": "2023-08-08T09:51:33.167552Z",
     "iopub.status.busy": "2023-08-08T09:51:33.167135Z",
     "iopub.status.idle": "2023-08-08T09:51:33.171001Z",
     "shell.execute_reply": "2023-08-08T09:51:33.170543Z"
    }
   },
   "outputs": [],
   "source": [
    "# metrics_file = settings.results_dir / 'rf' / 'rf_classifier_metrics.csv'\n",
    "# metrics_df = pd.read_csv(metrics_file, index_col=None, header=[0])\n",
    "# metrics_df, _ = prepare_data(metrics_df)\n",
    "# organs = metrics_df.organ.unique()\n",
    "# metric = ('AUC', 'per_class_auroc')\n",
    "# results = ExperimentResults()\n",
    "# metric_diff_value = []\n",
    "# for organ in organs:\n",
    "#     tmp = metrics_df[(metrics_df.organ == organ)]\n",
    "#     base_value = tmp[tmp.data == 'simulated'][metric[1]].values[0]\n",
    "#     values = []\n",
    "#     for j, source in enumerate(['cINN', 'UNIT']):\n",
    "#         metric_value = tmp[tmp['data'] == source][metric[1]].values[0]\n",
    "#         diff = metric_value - base_value\n",
    "#         values.append(float(diff))\n",
    "#         results.append(name=\"organ\", value=organ)\n",
    "#         results.append(name=\"data\", value=source)\n",
    "#         results.append(name=metric[0], value=diff)\n",
    "#     metric_diff_value.append(values)\n",
    "# df = results.get_df()\n",
    "# df = df[~df['data'].isin(['simulated', 'real'])]\n",
    "# df, _ = prepare_data(df)\n",
    "# fig = px.bar(\n",
    "#     data_frame=df,\n",
    "#     x=\"data\",\n",
    "#     y=metric[0],\n",
    "#     color=\"data\",\n",
    "#     template=\"plotly_white\",\n",
    "#     facet_col=\"organ\",\n",
    "#     facet_col_wrap=5,\n",
    "#     color_discrete_map=cmap_qualitative,\n",
    "#     facet_col_spacing=0.1,\n",
    "#     category_orders={'organ': list(organs)}\n",
    "# )\n",
    "# fig.for_each_yaxis(lambda yaxis: yaxis.update(showticklabels=True))\n",
    "# fig.update_layout(template=\"plotly_white\",\n",
    "#                   # width=1000,\n",
    "#                   # height=400,\n",
    "#                   margin=dict(l=20, r=20, t=20, b=20)\n",
    "#                   )\n",
    "# for i, values in enumerate(metric_diff_value):\n",
    "#     if i>0:\n",
    "#         col = (i%5) + 1\n",
    "#     else:\n",
    "#         col = 1\n",
    "#     if i < 5:\n",
    "#         row = 2\n",
    "#     else:\n",
    "#         row = 1\n",
    "#\n",
    "#     y_range = [-max(np.abs(values)), max(np.abs(values))]\n",
    "#     fig.update_yaxes(range=y_range, row=row, col=col)\n",
    "# fig.update_traces(width=0.5)\n",
    "# fig.update_layout(font=dict(size=12, family=font_type))\n",
    "# fig.update_xaxes(title_font=dict(size=12, family=font_type), tickangle=270)\n",
    "# fig.update_yaxes(title_font=dict(size=12, family=font_type), matches=None)\n",
    "# fig.for_each_annotation(lambda a: a.update(text=a.text.split(\"=\")[-1]))\n",
    "# fig.write_image(settings.figures_dir / 'manuscript' / f'semantic_{metric[0]}.png', scale=3)\n",
    "# fig.write_image(settings.figures_dir / 'manuscript' / f'semantic_{metric[0]}.pdf')\n",
    "# fig.write_image(settings.figures_dir / 'manuscript' / f'semantic_{metric[0]}.svg')\n",
    "# fig.write_html(settings.figures_dir / 'manuscript' / f'semantic_{metric[0]}.html')"
   ]
  },
  {
   "cell_type": "markdown",
   "metadata": {},
   "source": [
    "# plot HSI spectra"
   ]
  },
  {
   "cell_type": "code",
   "execution_count": 4,
   "metadata": {
    "execution": {
     "iopub.execute_input": "2023-08-08T09:51:33.172852Z",
     "iopub.status.busy": "2023-08-08T09:51:33.172627Z",
     "iopub.status.idle": "2023-08-08T09:51:36.413786Z",
     "shell.execute_reply": "2023-08-08T09:51:36.413325Z"
    }
   },
   "outputs": [
    {
     "ename": "FileNotFoundError",
     "evalue": "[Errno 2] No such file or directory: '/home/kris/Work/Repositories/miccai23/src/visualization/figures/semantic_reflectance.csv'",
     "output_type": "error",
     "traceback": [
      "\u001B[0;31m---------------------------------------------------------------------------\u001B[0m",
      "\u001B[0;31mFileNotFoundError\u001B[0m                         Traceback (most recent call last)",
      "Cell \u001B[0;32mIn[4], line 2\u001B[0m\n\u001B[1;32m      1\u001B[0m spectra_file \u001B[38;5;241m=\u001B[39m settings\u001B[38;5;241m.\u001B[39mfigures_dir \u001B[38;5;241m/\u001B[39m \u001B[38;5;124m'\u001B[39m\u001B[38;5;124msemantic_reflectance.csv\u001B[39m\u001B[38;5;124m'\u001B[39m\n\u001B[0;32m----> 2\u001B[0m df \u001B[38;5;241m=\u001B[39m \u001B[43mpd\u001B[49m\u001B[38;5;241;43m.\u001B[39;49m\u001B[43mread_csv\u001B[49m\u001B[43m(\u001B[49m\u001B[43mspectra_file\u001B[49m\u001B[43m)\u001B[49m\n\u001B[1;32m      3\u001B[0m df \u001B[38;5;241m=\u001B[39m df[df\u001B[38;5;241m.\u001B[39morgan \u001B[38;5;241m!=\u001B[39m \u001B[38;5;124m'\u001B[39m\u001B[38;5;124mgallbladder\u001B[39m\u001B[38;5;124m'\u001B[39m]\n\u001B[1;32m      4\u001B[0m organs \u001B[38;5;241m=\u001B[39m [\u001B[38;5;124m'\u001B[39m\u001B[38;5;124m \u001B[39m\u001B[38;5;124m'\u001B[39m\u001B[38;5;241m.\u001B[39mjoin(o\u001B[38;5;241m.\u001B[39msplit(\u001B[38;5;124m'\u001B[39m\u001B[38;5;124m_\u001B[39m\u001B[38;5;124m'\u001B[39m)) \u001B[38;5;28;01mfor\u001B[39;00m o \u001B[38;5;129;01min\u001B[39;00m organs_to_plot]\n",
      "File \u001B[0;32m~/Work/Virtualenvs/miccai/lib/python3.8/site-packages/pandas/util/_decorators.py:211\u001B[0m, in \u001B[0;36mdeprecate_kwarg.<locals>._deprecate_kwarg.<locals>.wrapper\u001B[0;34m(*args, **kwargs)\u001B[0m\n\u001B[1;32m    209\u001B[0m     \u001B[38;5;28;01melse\u001B[39;00m:\n\u001B[1;32m    210\u001B[0m         kwargs[new_arg_name] \u001B[38;5;241m=\u001B[39m new_arg_value\n\u001B[0;32m--> 211\u001B[0m \u001B[38;5;28;01mreturn\u001B[39;00m \u001B[43mfunc\u001B[49m\u001B[43m(\u001B[49m\u001B[38;5;241;43m*\u001B[39;49m\u001B[43margs\u001B[49m\u001B[43m,\u001B[49m\u001B[43m \u001B[49m\u001B[38;5;241;43m*\u001B[39;49m\u001B[38;5;241;43m*\u001B[39;49m\u001B[43mkwargs\u001B[49m\u001B[43m)\u001B[49m\n",
      "File \u001B[0;32m~/Work/Virtualenvs/miccai/lib/python3.8/site-packages/pandas/util/_decorators.py:331\u001B[0m, in \u001B[0;36mdeprecate_nonkeyword_arguments.<locals>.decorate.<locals>.wrapper\u001B[0;34m(*args, **kwargs)\u001B[0m\n\u001B[1;32m    325\u001B[0m \u001B[38;5;28;01mif\u001B[39;00m \u001B[38;5;28mlen\u001B[39m(args) \u001B[38;5;241m>\u001B[39m num_allow_args:\n\u001B[1;32m    326\u001B[0m     warnings\u001B[38;5;241m.\u001B[39mwarn(\n\u001B[1;32m    327\u001B[0m         msg\u001B[38;5;241m.\u001B[39mformat(arguments\u001B[38;5;241m=\u001B[39m_format_argument_list(allow_args)),\n\u001B[1;32m    328\u001B[0m         \u001B[38;5;167;01mFutureWarning\u001B[39;00m,\n\u001B[1;32m    329\u001B[0m         stacklevel\u001B[38;5;241m=\u001B[39mfind_stack_level(),\n\u001B[1;32m    330\u001B[0m     )\n\u001B[0;32m--> 331\u001B[0m \u001B[38;5;28;01mreturn\u001B[39;00m \u001B[43mfunc\u001B[49m\u001B[43m(\u001B[49m\u001B[38;5;241;43m*\u001B[39;49m\u001B[43margs\u001B[49m\u001B[43m,\u001B[49m\u001B[43m \u001B[49m\u001B[38;5;241;43m*\u001B[39;49m\u001B[38;5;241;43m*\u001B[39;49m\u001B[43mkwargs\u001B[49m\u001B[43m)\u001B[49m\n",
      "File \u001B[0;32m~/Work/Virtualenvs/miccai/lib/python3.8/site-packages/pandas/io/parsers/readers.py:950\u001B[0m, in \u001B[0;36mread_csv\u001B[0;34m(filepath_or_buffer, sep, delimiter, header, names, index_col, usecols, squeeze, prefix, mangle_dupe_cols, dtype, engine, converters, true_values, false_values, skipinitialspace, skiprows, skipfooter, nrows, na_values, keep_default_na, na_filter, verbose, skip_blank_lines, parse_dates, infer_datetime_format, keep_date_col, date_parser, dayfirst, cache_dates, iterator, chunksize, compression, thousands, decimal, lineterminator, quotechar, quoting, doublequote, escapechar, comment, encoding, encoding_errors, dialect, error_bad_lines, warn_bad_lines, on_bad_lines, delim_whitespace, low_memory, memory_map, float_precision, storage_options)\u001B[0m\n\u001B[1;32m    935\u001B[0m kwds_defaults \u001B[38;5;241m=\u001B[39m _refine_defaults_read(\n\u001B[1;32m    936\u001B[0m     dialect,\n\u001B[1;32m    937\u001B[0m     delimiter,\n\u001B[0;32m   (...)\u001B[0m\n\u001B[1;32m    946\u001B[0m     defaults\u001B[38;5;241m=\u001B[39m{\u001B[38;5;124m\"\u001B[39m\u001B[38;5;124mdelimiter\u001B[39m\u001B[38;5;124m\"\u001B[39m: \u001B[38;5;124m\"\u001B[39m\u001B[38;5;124m,\u001B[39m\u001B[38;5;124m\"\u001B[39m},\n\u001B[1;32m    947\u001B[0m )\n\u001B[1;32m    948\u001B[0m kwds\u001B[38;5;241m.\u001B[39mupdate(kwds_defaults)\n\u001B[0;32m--> 950\u001B[0m \u001B[38;5;28;01mreturn\u001B[39;00m \u001B[43m_read\u001B[49m\u001B[43m(\u001B[49m\u001B[43mfilepath_or_buffer\u001B[49m\u001B[43m,\u001B[49m\u001B[43m \u001B[49m\u001B[43mkwds\u001B[49m\u001B[43m)\u001B[49m\n",
      "File \u001B[0;32m~/Work/Virtualenvs/miccai/lib/python3.8/site-packages/pandas/io/parsers/readers.py:605\u001B[0m, in \u001B[0;36m_read\u001B[0;34m(filepath_or_buffer, kwds)\u001B[0m\n\u001B[1;32m    602\u001B[0m _validate_names(kwds\u001B[38;5;241m.\u001B[39mget(\u001B[38;5;124m\"\u001B[39m\u001B[38;5;124mnames\u001B[39m\u001B[38;5;124m\"\u001B[39m, \u001B[38;5;28;01mNone\u001B[39;00m))\n\u001B[1;32m    604\u001B[0m \u001B[38;5;66;03m# Create the parser.\u001B[39;00m\n\u001B[0;32m--> 605\u001B[0m parser \u001B[38;5;241m=\u001B[39m \u001B[43mTextFileReader\u001B[49m\u001B[43m(\u001B[49m\u001B[43mfilepath_or_buffer\u001B[49m\u001B[43m,\u001B[49m\u001B[43m \u001B[49m\u001B[38;5;241;43m*\u001B[39;49m\u001B[38;5;241;43m*\u001B[39;49m\u001B[43mkwds\u001B[49m\u001B[43m)\u001B[49m\n\u001B[1;32m    607\u001B[0m \u001B[38;5;28;01mif\u001B[39;00m chunksize \u001B[38;5;129;01mor\u001B[39;00m iterator:\n\u001B[1;32m    608\u001B[0m     \u001B[38;5;28;01mreturn\u001B[39;00m parser\n",
      "File \u001B[0;32m~/Work/Virtualenvs/miccai/lib/python3.8/site-packages/pandas/io/parsers/readers.py:1442\u001B[0m, in \u001B[0;36mTextFileReader.__init__\u001B[0;34m(self, f, engine, **kwds)\u001B[0m\n\u001B[1;32m   1439\u001B[0m     \u001B[38;5;28mself\u001B[39m\u001B[38;5;241m.\u001B[39moptions[\u001B[38;5;124m\"\u001B[39m\u001B[38;5;124mhas_index_names\u001B[39m\u001B[38;5;124m\"\u001B[39m] \u001B[38;5;241m=\u001B[39m kwds[\u001B[38;5;124m\"\u001B[39m\u001B[38;5;124mhas_index_names\u001B[39m\u001B[38;5;124m\"\u001B[39m]\n\u001B[1;32m   1441\u001B[0m \u001B[38;5;28mself\u001B[39m\u001B[38;5;241m.\u001B[39mhandles: IOHandles \u001B[38;5;241m|\u001B[39m \u001B[38;5;28;01mNone\u001B[39;00m \u001B[38;5;241m=\u001B[39m \u001B[38;5;28;01mNone\u001B[39;00m\n\u001B[0;32m-> 1442\u001B[0m \u001B[38;5;28mself\u001B[39m\u001B[38;5;241m.\u001B[39m_engine \u001B[38;5;241m=\u001B[39m \u001B[38;5;28;43mself\u001B[39;49m\u001B[38;5;241;43m.\u001B[39;49m\u001B[43m_make_engine\u001B[49m\u001B[43m(\u001B[49m\u001B[43mf\u001B[49m\u001B[43m,\u001B[49m\u001B[43m \u001B[49m\u001B[38;5;28;43mself\u001B[39;49m\u001B[38;5;241;43m.\u001B[39;49m\u001B[43mengine\u001B[49m\u001B[43m)\u001B[49m\n",
      "File \u001B[0;32m~/Work/Virtualenvs/miccai/lib/python3.8/site-packages/pandas/io/parsers/readers.py:1735\u001B[0m, in \u001B[0;36mTextFileReader._make_engine\u001B[0;34m(self, f, engine)\u001B[0m\n\u001B[1;32m   1733\u001B[0m     \u001B[38;5;28;01mif\u001B[39;00m \u001B[38;5;124m\"\u001B[39m\u001B[38;5;124mb\u001B[39m\u001B[38;5;124m\"\u001B[39m \u001B[38;5;129;01mnot\u001B[39;00m \u001B[38;5;129;01min\u001B[39;00m mode:\n\u001B[1;32m   1734\u001B[0m         mode \u001B[38;5;241m+\u001B[39m\u001B[38;5;241m=\u001B[39m \u001B[38;5;124m\"\u001B[39m\u001B[38;5;124mb\u001B[39m\u001B[38;5;124m\"\u001B[39m\n\u001B[0;32m-> 1735\u001B[0m \u001B[38;5;28mself\u001B[39m\u001B[38;5;241m.\u001B[39mhandles \u001B[38;5;241m=\u001B[39m \u001B[43mget_handle\u001B[49m\u001B[43m(\u001B[49m\n\u001B[1;32m   1736\u001B[0m \u001B[43m    \u001B[49m\u001B[43mf\u001B[49m\u001B[43m,\u001B[49m\n\u001B[1;32m   1737\u001B[0m \u001B[43m    \u001B[49m\u001B[43mmode\u001B[49m\u001B[43m,\u001B[49m\n\u001B[1;32m   1738\u001B[0m \u001B[43m    \u001B[49m\u001B[43mencoding\u001B[49m\u001B[38;5;241;43m=\u001B[39;49m\u001B[38;5;28;43mself\u001B[39;49m\u001B[38;5;241;43m.\u001B[39;49m\u001B[43moptions\u001B[49m\u001B[38;5;241;43m.\u001B[39;49m\u001B[43mget\u001B[49m\u001B[43m(\u001B[49m\u001B[38;5;124;43m\"\u001B[39;49m\u001B[38;5;124;43mencoding\u001B[39;49m\u001B[38;5;124;43m\"\u001B[39;49m\u001B[43m,\u001B[49m\u001B[43m \u001B[49m\u001B[38;5;28;43;01mNone\u001B[39;49;00m\u001B[43m)\u001B[49m\u001B[43m,\u001B[49m\n\u001B[1;32m   1739\u001B[0m \u001B[43m    \u001B[49m\u001B[43mcompression\u001B[49m\u001B[38;5;241;43m=\u001B[39;49m\u001B[38;5;28;43mself\u001B[39;49m\u001B[38;5;241;43m.\u001B[39;49m\u001B[43moptions\u001B[49m\u001B[38;5;241;43m.\u001B[39;49m\u001B[43mget\u001B[49m\u001B[43m(\u001B[49m\u001B[38;5;124;43m\"\u001B[39;49m\u001B[38;5;124;43mcompression\u001B[39;49m\u001B[38;5;124;43m\"\u001B[39;49m\u001B[43m,\u001B[49m\u001B[43m \u001B[49m\u001B[38;5;28;43;01mNone\u001B[39;49;00m\u001B[43m)\u001B[49m\u001B[43m,\u001B[49m\n\u001B[1;32m   1740\u001B[0m \u001B[43m    \u001B[49m\u001B[43mmemory_map\u001B[49m\u001B[38;5;241;43m=\u001B[39;49m\u001B[38;5;28;43mself\u001B[39;49m\u001B[38;5;241;43m.\u001B[39;49m\u001B[43moptions\u001B[49m\u001B[38;5;241;43m.\u001B[39;49m\u001B[43mget\u001B[49m\u001B[43m(\u001B[49m\u001B[38;5;124;43m\"\u001B[39;49m\u001B[38;5;124;43mmemory_map\u001B[39;49m\u001B[38;5;124;43m\"\u001B[39;49m\u001B[43m,\u001B[49m\u001B[43m \u001B[49m\u001B[38;5;28;43;01mFalse\u001B[39;49;00m\u001B[43m)\u001B[49m\u001B[43m,\u001B[49m\n\u001B[1;32m   1741\u001B[0m \u001B[43m    \u001B[49m\u001B[43mis_text\u001B[49m\u001B[38;5;241;43m=\u001B[39;49m\u001B[43mis_text\u001B[49m\u001B[43m,\u001B[49m\n\u001B[1;32m   1742\u001B[0m \u001B[43m    \u001B[49m\u001B[43merrors\u001B[49m\u001B[38;5;241;43m=\u001B[39;49m\u001B[38;5;28;43mself\u001B[39;49m\u001B[38;5;241;43m.\u001B[39;49m\u001B[43moptions\u001B[49m\u001B[38;5;241;43m.\u001B[39;49m\u001B[43mget\u001B[49m\u001B[43m(\u001B[49m\u001B[38;5;124;43m\"\u001B[39;49m\u001B[38;5;124;43mencoding_errors\u001B[39;49m\u001B[38;5;124;43m\"\u001B[39;49m\u001B[43m,\u001B[49m\u001B[43m \u001B[49m\u001B[38;5;124;43m\"\u001B[39;49m\u001B[38;5;124;43mstrict\u001B[39;49m\u001B[38;5;124;43m\"\u001B[39;49m\u001B[43m)\u001B[49m\u001B[43m,\u001B[49m\n\u001B[1;32m   1743\u001B[0m \u001B[43m    \u001B[49m\u001B[43mstorage_options\u001B[49m\u001B[38;5;241;43m=\u001B[39;49m\u001B[38;5;28;43mself\u001B[39;49m\u001B[38;5;241;43m.\u001B[39;49m\u001B[43moptions\u001B[49m\u001B[38;5;241;43m.\u001B[39;49m\u001B[43mget\u001B[49m\u001B[43m(\u001B[49m\u001B[38;5;124;43m\"\u001B[39;49m\u001B[38;5;124;43mstorage_options\u001B[39;49m\u001B[38;5;124;43m\"\u001B[39;49m\u001B[43m,\u001B[49m\u001B[43m \u001B[49m\u001B[38;5;28;43;01mNone\u001B[39;49;00m\u001B[43m)\u001B[49m\u001B[43m,\u001B[49m\n\u001B[1;32m   1744\u001B[0m \u001B[43m\u001B[49m\u001B[43m)\u001B[49m\n\u001B[1;32m   1745\u001B[0m \u001B[38;5;28;01massert\u001B[39;00m \u001B[38;5;28mself\u001B[39m\u001B[38;5;241m.\u001B[39mhandles \u001B[38;5;129;01mis\u001B[39;00m \u001B[38;5;129;01mnot\u001B[39;00m \u001B[38;5;28;01mNone\u001B[39;00m\n\u001B[1;32m   1746\u001B[0m f \u001B[38;5;241m=\u001B[39m \u001B[38;5;28mself\u001B[39m\u001B[38;5;241m.\u001B[39mhandles\u001B[38;5;241m.\u001B[39mhandle\n",
      "File \u001B[0;32m~/Work/Virtualenvs/miccai/lib/python3.8/site-packages/pandas/io/common.py:856\u001B[0m, in \u001B[0;36mget_handle\u001B[0;34m(path_or_buf, mode, encoding, compression, memory_map, is_text, errors, storage_options)\u001B[0m\n\u001B[1;32m    851\u001B[0m \u001B[38;5;28;01melif\u001B[39;00m \u001B[38;5;28misinstance\u001B[39m(handle, \u001B[38;5;28mstr\u001B[39m):\n\u001B[1;32m    852\u001B[0m     \u001B[38;5;66;03m# Check whether the filename is to be opened in binary mode.\u001B[39;00m\n\u001B[1;32m    853\u001B[0m     \u001B[38;5;66;03m# Binary mode does not support 'encoding' and 'newline'.\u001B[39;00m\n\u001B[1;32m    854\u001B[0m     \u001B[38;5;28;01mif\u001B[39;00m ioargs\u001B[38;5;241m.\u001B[39mencoding \u001B[38;5;129;01mand\u001B[39;00m \u001B[38;5;124m\"\u001B[39m\u001B[38;5;124mb\u001B[39m\u001B[38;5;124m\"\u001B[39m \u001B[38;5;129;01mnot\u001B[39;00m \u001B[38;5;129;01min\u001B[39;00m ioargs\u001B[38;5;241m.\u001B[39mmode:\n\u001B[1;32m    855\u001B[0m         \u001B[38;5;66;03m# Encoding\u001B[39;00m\n\u001B[0;32m--> 856\u001B[0m         handle \u001B[38;5;241m=\u001B[39m \u001B[38;5;28;43mopen\u001B[39;49m\u001B[43m(\u001B[49m\n\u001B[1;32m    857\u001B[0m \u001B[43m            \u001B[49m\u001B[43mhandle\u001B[49m\u001B[43m,\u001B[49m\n\u001B[1;32m    858\u001B[0m \u001B[43m            \u001B[49m\u001B[43mioargs\u001B[49m\u001B[38;5;241;43m.\u001B[39;49m\u001B[43mmode\u001B[49m\u001B[43m,\u001B[49m\n\u001B[1;32m    859\u001B[0m \u001B[43m            \u001B[49m\u001B[43mencoding\u001B[49m\u001B[38;5;241;43m=\u001B[39;49m\u001B[43mioargs\u001B[49m\u001B[38;5;241;43m.\u001B[39;49m\u001B[43mencoding\u001B[49m\u001B[43m,\u001B[49m\n\u001B[1;32m    860\u001B[0m \u001B[43m            \u001B[49m\u001B[43merrors\u001B[49m\u001B[38;5;241;43m=\u001B[39;49m\u001B[43merrors\u001B[49m\u001B[43m,\u001B[49m\n\u001B[1;32m    861\u001B[0m \u001B[43m            \u001B[49m\u001B[43mnewline\u001B[49m\u001B[38;5;241;43m=\u001B[39;49m\u001B[38;5;124;43m\"\u001B[39;49m\u001B[38;5;124;43m\"\u001B[39;49m\u001B[43m,\u001B[49m\n\u001B[1;32m    862\u001B[0m \u001B[43m        \u001B[49m\u001B[43m)\u001B[49m\n\u001B[1;32m    863\u001B[0m     \u001B[38;5;28;01melse\u001B[39;00m:\n\u001B[1;32m    864\u001B[0m         \u001B[38;5;66;03m# Binary mode\u001B[39;00m\n\u001B[1;32m    865\u001B[0m         handle \u001B[38;5;241m=\u001B[39m \u001B[38;5;28mopen\u001B[39m(handle, ioargs\u001B[38;5;241m.\u001B[39mmode)\n",
      "\u001B[0;31mFileNotFoundError\u001B[0m: [Errno 2] No such file or directory: '/home/kris/Work/Repositories/miccai23/src/visualization/figures/semantic_reflectance.csv'"
     ]
    }
   ],
   "source": [
    "spectra_file = settings.figures_dir / 'semantic_reflectance.csv'\n",
    "df = pd.read_csv(spectra_file)\n",
    "df = df[df.organ != 'gallbladder']\n",
    "organs = [' '.join(o.split('_')) for o in organs_to_plot]\n",
    "df = df[df['organ'].isin(organs_to_plot)]\n",
    "df_prepared, mapper = prepare_data(df)\n",
    "fig, plot_data = line(\n",
    "    data_frame=df_prepared,\n",
    "    x=mapper.get(\"wavelength\"),\n",
    "    y=mapper.get('reflectance'),\n",
    "    facet_col=\"organ\",\n",
    "    color=mapper.get(\"dataset\"),\n",
    "    facet_col_wrap=5,\n",
    "    template=\"plotly_white\",\n",
    "    width=800,\n",
    "    height=300,\n",
    "    category_orders=dict(organ=organs, data=['real', 'simulated', 'UNIT', 'cINN']),\n",
    "    facet_row_spacing=0.2,\n",
    "    facet_col_spacing=0.05,\n",
    "    color_discrete_map=cmap_qualitative,\n",
    "    # range_x=(900, 1000),\n",
    "    # range_y=(0.005, 0.015)\n",
    "    range_y=(0.0, 0.025)\n",
    ")\n",
    "# fig.add_vrect(x0=900,\n",
    "#               x1=1000,\n",
    "#               row=\"all\",\n",
    "#               col=\"all\",\n",
    "#               fillcolor=\"gray\",\n",
    "#               opacity=0.25,\n",
    "#               line_width=0\n",
    "#               )\n",
    "font_size = 22\n",
    "fig.update_xaxes(title_font=dict(size=font_size, family=font_type), tickangle=270,\n",
    "                 # showgrid=False,\n",
    "                 )\n",
    "fig.update_yaxes(title_font=dict(size=font_size, family=font_type),\n",
    "                 # showgrid=False,\n",
    "                 )\n",
    "fig.update_annotations(font=dict(size=font_size, family=font_type))\n",
    "# fig.for_each_yaxis(lambda yaxis: yaxis.update(showticklabels=True))\n",
    "fig.for_each_annotation(lambda a: a.update(text=a.text.split(\"=\")[-1]))\n",
    "fig.update_layout(font=dict(size=font_size, family=font_type, color='#000000'),\n",
    "                  margin=dict(l=0, r=0, t=0, b=10),\n",
    "                  legend=dict(orientation=\"h\", xanchor=\"center\", x=0.5, y=1.3, title=\"\")\n",
    "                  )\n",
    "os.makedirs(settings.figures_dir / 'manuscript')\n",
    "print(settings.figures_dir / 'manuscript' / 'semantic_reflectance')\n",
    "fig.write_image(settings.figures_dir / 'manuscript' / 'semantic_reflectance.pdf')\n",
    "fig.write_image(settings.figures_dir / 'manuscript' / 'semantic_reflectance.svg')\n",
    "fig.write_image(settings.figures_dir / 'manuscript' / 'semantic_reflectance.png', scale=2)\n",
    "fig.write_html(settings.figures_dir / 'manuscript' / 'semantic_reflectance.html')"
   ]
  },
  {
   "cell_type": "markdown",
   "metadata": {},
   "source": [
    "# plot HSI spectral differences"
   ]
  },
  {
   "cell_type": "code",
   "execution_count": 6,
   "metadata": {
    "execution": {
     "iopub.execute_input": "2023-08-08T09:51:36.416308Z",
     "iopub.status.busy": "2023-08-08T09:51:36.416183Z",
     "iopub.status.idle": "2023-08-08T09:51:36.686490Z",
     "shell.execute_reply": "2023-08-08T09:51:36.686122Z"
    }
   },
   "outputs": [
    {
     "ename": "FileExistsError",
     "evalue": "[Errno 17] File exists: '/home/kris/Work/Data/Test/figures/manuscript'",
     "output_type": "error",
     "traceback": [
      "\u001B[0;31m---------------------------------------------------------------------------\u001B[0m",
      "\u001B[0;31mFileExistsError\u001B[0m                           Traceback (most recent call last)",
      "Cell \u001B[0;32mIn[6], line 42\u001B[0m\n\u001B[1;32m     39\u001B[0m fig\u001B[38;5;241m.\u001B[39mupdate_yaxes(title_font\u001B[38;5;241m=\u001B[39m\u001B[38;5;28mdict\u001B[39m(size\u001B[38;5;241m=\u001B[39mfont_size, family\u001B[38;5;241m=\u001B[39mfont_type),\n\u001B[1;32m     40\u001B[0m                  \u001B[38;5;28mrange\u001B[39m\u001B[38;5;241m=\u001B[39m(\u001B[38;5;241m0\u001B[39m, \u001B[38;5;241m0.005\u001B[39m))\n\u001B[1;32m     41\u001B[0m fig\u001B[38;5;241m.\u001B[39mfor_each_annotation(\u001B[38;5;28;01mlambda\u001B[39;00m a: a\u001B[38;5;241m.\u001B[39mupdate(text\u001B[38;5;241m=\u001B[39ma\u001B[38;5;241m.\u001B[39mtext\u001B[38;5;241m.\u001B[39msplit(\u001B[38;5;124m\"\u001B[39m\u001B[38;5;124m=\u001B[39m\u001B[38;5;124m\"\u001B[39m)[\u001B[38;5;241m-\u001B[39m\u001B[38;5;241m1\u001B[39m]))\n\u001B[0;32m---> 42\u001B[0m \u001B[43mos\u001B[49m\u001B[38;5;241;43m.\u001B[39;49m\u001B[43mmakedirs\u001B[49m\u001B[43m(\u001B[49m\u001B[43msettings\u001B[49m\u001B[38;5;241;43m.\u001B[39;49m\u001B[43mfigures_dir\u001B[49m\u001B[43m \u001B[49m\u001B[38;5;241;43m/\u001B[39;49m\u001B[43m \u001B[49m\u001B[38;5;124;43m'\u001B[39;49m\u001B[38;5;124;43mmanuscript\u001B[39;49m\u001B[38;5;124;43m'\u001B[39;49m\u001B[43m)\u001B[49m\n\u001B[1;32m     43\u001B[0m fig\u001B[38;5;241m.\u001B[39mwrite_image(settings\u001B[38;5;241m.\u001B[39mfigures_dir \u001B[38;5;241m/\u001B[39m \u001B[38;5;124m'\u001B[39m\u001B[38;5;124mmanuscript\u001B[39m\u001B[38;5;124m'\u001B[39m \u001B[38;5;241m/\u001B[39m \u001B[38;5;124m'\u001B[39m\u001B[38;5;124msemantic_diff.pdf\u001B[39m\u001B[38;5;124m'\u001B[39m)\n\u001B[1;32m     44\u001B[0m fig\u001B[38;5;241m.\u001B[39mwrite_image(settings\u001B[38;5;241m.\u001B[39mfigures_dir \u001B[38;5;241m/\u001B[39m \u001B[38;5;124m'\u001B[39m\u001B[38;5;124mmanuscript\u001B[39m\u001B[38;5;124m'\u001B[39m \u001B[38;5;241m/\u001B[39m \u001B[38;5;124m'\u001B[39m\u001B[38;5;124msemantic_diff.svg\u001B[39m\u001B[38;5;124m'\u001B[39m)\n",
      "File \u001B[0;32m/usr/lib/python3.8/os.py:223\u001B[0m, in \u001B[0;36mmakedirs\u001B[0;34m(name, mode, exist_ok)\u001B[0m\n\u001B[1;32m    221\u001B[0m         \u001B[38;5;28;01mreturn\u001B[39;00m\n\u001B[1;32m    222\u001B[0m \u001B[38;5;28;01mtry\u001B[39;00m:\n\u001B[0;32m--> 223\u001B[0m     \u001B[43mmkdir\u001B[49m\u001B[43m(\u001B[49m\u001B[43mname\u001B[49m\u001B[43m,\u001B[49m\u001B[43m \u001B[49m\u001B[43mmode\u001B[49m\u001B[43m)\u001B[49m\n\u001B[1;32m    224\u001B[0m \u001B[38;5;28;01mexcept\u001B[39;00m \u001B[38;5;167;01mOSError\u001B[39;00m:\n\u001B[1;32m    225\u001B[0m     \u001B[38;5;66;03m# Cannot rely on checking for EEXIST, since the operating system\u001B[39;00m\n\u001B[1;32m    226\u001B[0m     \u001B[38;5;66;03m# could give priority to other errors like EACCES or EROFS\u001B[39;00m\n\u001B[1;32m    227\u001B[0m     \u001B[38;5;28;01mif\u001B[39;00m \u001B[38;5;129;01mnot\u001B[39;00m exist_ok \u001B[38;5;129;01mor\u001B[39;00m \u001B[38;5;129;01mnot\u001B[39;00m path\u001B[38;5;241m.\u001B[39misdir(name):\n",
      "\u001B[0;31mFileExistsError\u001B[0m: [Errno 17] File exists: '/home/kris/Work/Data/Test/figures/manuscript'"
     ]
    }
   ],
   "source": [
    "df = pd.read_csv(settings.figures_dir / 'semantic_diff.csv')\n",
    "organs = get_organ_labels()['organ_labels']\n",
    "organs = [o for o in organs if o != 'gallbladder' and o in organs_to_plot]\n",
    "df = df[df['organ'].isin(organs)]\n",
    "organs = [' '.join(o.split('_')) for o in organs]\n",
    "df_prepared, mapper = prepare_data(df)\n",
    "fig = px.violin(data_frame=df_prepared,\n",
    "             x=\"data\",\n",
    "             y=mapper.get('difference'),\n",
    "             color=\"data\",\n",
    "             facet_col=\"organ\",\n",
    "             facet_col_wrap=5,\n",
    "             color_discrete_map=cmap_qualitative,\n",
    "             template=\"plotly_white\",\n",
    "             category_orders=dict(organ=organs_to_plot, data=['real - simulated', 'real - UNIT', 'real - cINN']),\n",
    "             facet_row_spacing=0.2,\n",
    "             facet_col_spacing=0.05,\n",
    "             width=800,\n",
    "             height=400,\n",
    "                points=\"all\"\n",
    "             )\n",
    "fig.update_traces(scalemode='width', meanline_visible=True, line=dict(width=3))\n",
    "TRACE_INDEX = []\n",
    "def split_scale_group(tr):\n",
    "    if TRACE_INDEX:\n",
    "        TRACE_INDEX.append(TRACE_INDEX[-1] + 1)\n",
    "    else:\n",
    "        TRACE_INDEX.append(0)\n",
    "    tr.scalegroup = TRACE_INDEX[-1]\n",
    "    return tr\n",
    "fig.for_each_trace(split_scale_group)\n",
    "font_size=18\n",
    "fig.update_layout(font=dict(size=font_size, family=font_type, color=\"#000000\"),\n",
    "                  legend=dict(orientation=\"h\", xanchor=\"center\", x=0.5, y=0., title=\"\"),\n",
    "                  margin=dict(l=0, r=0, t=30, b=0)\n",
    "                  )\n",
    "fig.update_xaxes(title_font=dict(size=font_size, family=font_type),\n",
    "                 showticklabels=False, title=\"\")\n",
    "fig.update_yaxes(title_font=dict(size=font_size, family=font_type),\n",
    "                 range=(0, 0.005))\n",
    "fig.for_each_annotation(lambda a: a.update(text=a.text.split(\"=\")[-1]))\n",
    "os.makedirs(settings.figures_dir / 'manuscript')\n",
    "fig.write_image(settings.figures_dir / 'manuscript' / 'semantic_diff.pdf')\n",
    "fig.write_image(settings.figures_dir / 'manuscript' / 'semantic_diff.svg')\n",
    "fig.write_image(settings.figures_dir / 'manuscript' / 'semantic_diff.png', scale=2)"
   ]
  },
  {
   "cell_type": "markdown",
   "metadata": {},
   "source": [
    "# plot HSI confusion matrices"
   ]
  },
  {
   "cell_type": "code",
   "execution_count": 7,
   "metadata": {
    "execution": {
     "iopub.execute_input": "2023-08-08T09:51:36.688487Z",
     "iopub.status.busy": "2023-08-08T09:51:36.688371Z",
     "iopub.status.idle": "2023-08-08T09:51:36.842981Z",
     "shell.execute_reply": "2023-08-08T09:51:36.842619Z"
    }
   },
   "outputs": [
    {
     "ename": "FileExistsError",
     "evalue": "[Errno 17] File exists: '/home/kris/Work/Data/Test/figures/manuscript'",
     "output_type": "error",
     "traceback": [
      "\u001B[0;31m---------------------------------------------------------------------------\u001B[0m",
      "\u001B[0;31mFileExistsError\u001B[0m                           Traceback (most recent call last)",
      "Cell \u001B[0;32mIn[7], line 44\u001B[0m\n\u001B[1;32m     41\u001B[0m fig\u001B[38;5;241m.\u001B[39mupdate_yaxes(title\u001B[38;5;241m=\u001B[39m\u001B[38;5;124m\"\u001B[39m\u001B[38;5;124mtrue class\u001B[39m\u001B[38;5;124m\"\u001B[39m, title_font\u001B[38;5;241m=\u001B[39m\u001B[38;5;28mdict\u001B[39m(size\u001B[38;5;241m=\u001B[39mfont_size, family\u001B[38;5;241m=\u001B[39mfont_type))\n\u001B[1;32m     42\u001B[0m fig\u001B[38;5;241m.\u001B[39mupdate_layout(font\u001B[38;5;241m=\u001B[39m\u001B[38;5;28mdict\u001B[39m(size\u001B[38;5;241m=\u001B[39mfont_size, family\u001B[38;5;241m=\u001B[39mfont_type, color\u001B[38;5;241m=\u001B[39m\u001B[38;5;124m'\u001B[39m\u001B[38;5;124m#000000\u001B[39m\u001B[38;5;124m'\u001B[39m),\n\u001B[1;32m     43\u001B[0m                   margin\u001B[38;5;241m=\u001B[39m\u001B[38;5;28mdict\u001B[39m(l\u001B[38;5;241m=\u001B[39m\u001B[38;5;241m10\u001B[39m, r\u001B[38;5;241m=\u001B[39m\u001B[38;5;241m0\u001B[39m, t\u001B[38;5;241m=\u001B[39m\u001B[38;5;241m10\u001B[39m, b\u001B[38;5;241m=\u001B[39m\u001B[38;5;241m10\u001B[39m))\n\u001B[0;32m---> 44\u001B[0m \u001B[43mos\u001B[49m\u001B[38;5;241;43m.\u001B[39;49m\u001B[43mmakedirs\u001B[49m\u001B[43m(\u001B[49m\u001B[43msettings\u001B[49m\u001B[38;5;241;43m.\u001B[39;49m\u001B[43mfigures_dir\u001B[49m\u001B[43m \u001B[49m\u001B[38;5;241;43m/\u001B[39;49m\u001B[43m \u001B[49m\u001B[38;5;124;43m'\u001B[39;49m\u001B[38;5;124;43mmanuscript\u001B[39;49m\u001B[38;5;124;43m'\u001B[39;49m\u001B[43m)\u001B[49m\n\u001B[1;32m     45\u001B[0m fig\u001B[38;5;241m.\u001B[39mwrite_image(settings\u001B[38;5;241m.\u001B[39mfigures_dir \u001B[38;5;241m/\u001B[39m \u001B[38;5;124m'\u001B[39m\u001B[38;5;124mmanuscript\u001B[39m\u001B[38;5;124m'\u001B[39m \u001B[38;5;241m/\u001B[39m \u001B[38;5;124mf\u001B[39m\u001B[38;5;124m'\u001B[39m\u001B[38;5;124msemantic_rf_confusion_matrix_\u001B[39m\u001B[38;5;132;01m{\u001B[39;00mstage\u001B[38;5;132;01m}\u001B[39;00m\u001B[38;5;124m.pdf\u001B[39m\u001B[38;5;124m'\u001B[39m)\n\u001B[1;32m     46\u001B[0m fig\u001B[38;5;241m.\u001B[39mwrite_image(settings\u001B[38;5;241m.\u001B[39mfigures_dir \u001B[38;5;241m/\u001B[39m \u001B[38;5;124m'\u001B[39m\u001B[38;5;124mmanuscript\u001B[39m\u001B[38;5;124m'\u001B[39m \u001B[38;5;241m/\u001B[39m \u001B[38;5;124mf\u001B[39m\u001B[38;5;124m'\u001B[39m\u001B[38;5;124msemantic_rf_confusion_matrix_\u001B[39m\u001B[38;5;132;01m{\u001B[39;00mstage\u001B[38;5;132;01m}\u001B[39;00m\u001B[38;5;124m.svg\u001B[39m\u001B[38;5;124m'\u001B[39m)\n",
      "File \u001B[0;32m/usr/lib/python3.8/os.py:223\u001B[0m, in \u001B[0;36mmakedirs\u001B[0;34m(name, mode, exist_ok)\u001B[0m\n\u001B[1;32m    221\u001B[0m         \u001B[38;5;28;01mreturn\u001B[39;00m\n\u001B[1;32m    222\u001B[0m \u001B[38;5;28;01mtry\u001B[39;00m:\n\u001B[0;32m--> 223\u001B[0m     \u001B[43mmkdir\u001B[49m\u001B[43m(\u001B[49m\u001B[43mname\u001B[49m\u001B[43m,\u001B[49m\u001B[43m \u001B[49m\u001B[43mmode\u001B[49m\u001B[43m)\u001B[49m\n\u001B[1;32m    224\u001B[0m \u001B[38;5;28;01mexcept\u001B[39;00m \u001B[38;5;167;01mOSError\u001B[39;00m:\n\u001B[1;32m    225\u001B[0m     \u001B[38;5;66;03m# Cannot rely on checking for EEXIST, since the operating system\u001B[39;00m\n\u001B[1;32m    226\u001B[0m     \u001B[38;5;66;03m# could give priority to other errors like EACCES or EROFS\u001B[39;00m\n\u001B[1;32m    227\u001B[0m     \u001B[38;5;28;01mif\u001B[39;00m \u001B[38;5;129;01mnot\u001B[39;00m exist_ok \u001B[38;5;129;01mor\u001B[39;00m \u001B[38;5;129;01mnot\u001B[39;00m path\u001B[38;5;241m.\u001B[39misdir(name):\n",
      "\u001B[0;31mFileExistsError\u001B[0m: [Errno 17] File exists: '/home/kris/Work/Data/Test/figures/manuscript'"
     ]
    }
   ],
   "source": [
    "stages = [\n",
    "    'real',\n",
    "    'simulated',\n",
    "    'cINN',\n",
    "    'UNIT'\n",
    "]\n",
    "stage_mapper = dict(real='real', sampled='simulated', adapted_inn='cINN', unit='UNIT')\n",
    "mapping = get_label_mapping()\n",
    "for stage in stages:\n",
    "    file = settings.results_dir / 'rf' / f\"rf_classifier_matrix_{stage}.npz\"\n",
    "    data = np.load(file)\n",
    "    matrix = data['matrix']\n",
    "    labels = data['labels']\n",
    "    names = [mapping.get(str(l)) for l in labels]\n",
    "    names = [' '.join(n.split('_')) for n in names]\n",
    "    fig = px.imshow(matrix,\n",
    "                    text_auto='.2f',\n",
    "                    color_continuous_scale=cmap_quantitative_list.get(stage),\n",
    "                    zmin=0,\n",
    "                    zmax=1,\n",
    "                    template='plotly_white',\n",
    "                    labels={'small_bowel': 'small bowel'}\n",
    "                    )\n",
    "    axis_ticks = dict(\n",
    "            tickmode='array',\n",
    "            tickvals=np.arange(0, len(names)),\n",
    "            ticktext=names\n",
    "        )\n",
    "    fig.update_layout(\n",
    "        xaxis=axis_ticks,\n",
    "        yaxis=axis_ticks,\n",
    "        coloraxis_colorbar=dict(\n",
    "            title=\"probability\",\n",
    "            x=0.85,\n",
    "            ticks=\"outside\",\n",
    "            ticksuffix=\"\",\n",
    "        )\n",
    "    )\n",
    "    font_size = 18\n",
    "    fig.update_xaxes(title=\"predicted class\", title_font=dict(size=font_size, family=font_type))\n",
    "    fig.update_yaxes(title=\"true class\", title_font=dict(size=font_size, family=font_type))\n",
    "    fig.update_layout(font=dict(size=font_size, family=font_type, color='#000000'),\n",
    "                      margin=dict(l=10, r=0, t=10, b=10))\n",
    "    os.makedirs(settings.figures_dir / 'manuscript')\n",
    "    fig.write_image(settings.figures_dir / 'manuscript' / f'semantic_rf_confusion_matrix_{stage}.pdf')\n",
    "    fig.write_image(settings.figures_dir / 'manuscript' / f'semantic_rf_confusion_matrix_{stage}.svg')\n",
    "    fig.write_image(settings.figures_dir / 'manuscript' / f'semantic_rf_confusion_matrix_{stage}.png', scale=2)"
   ]
  },
  {
   "cell_type": "markdown",
   "metadata": {},
   "source": [
    "# plot HSI PCA"
   ]
  },
  {
   "cell_type": "code",
   "execution_count": 8,
   "metadata": {
    "execution": {
     "iopub.execute_input": "2023-08-08T09:51:36.845097Z",
     "iopub.status.busy": "2023-08-08T09:51:36.844809Z",
     "iopub.status.idle": "2023-08-08T09:51:38.211473Z",
     "shell.execute_reply": "2023-08-08T09:51:38.211059Z"
    }
   },
   "outputs": [
    {
     "ename": "FileExistsError",
     "evalue": "[Errno 17] File exists: '/home/kris/Work/Data/Test/figures/manuscript/semantic_pca'",
     "output_type": "error",
     "traceback": [
      "\u001B[0;31m---------------------------------------------------------------------------\u001B[0m",
      "\u001B[0;31mFileExistsError\u001B[0m                           Traceback (most recent call last)",
      "Cell \u001B[0;32mIn[8], line 29\u001B[0m\n\u001B[1;32m     27\u001B[0m sns\u001B[38;5;241m.\u001B[39mdespine(left\u001B[38;5;241m=\u001B[39m\u001B[38;5;28;01mTrue\u001B[39;00m, bottom\u001B[38;5;241m=\u001B[39m\u001B[38;5;28;01mTrue\u001B[39;00m)\n\u001B[1;32m     28\u001B[0m plt\u001B[38;5;241m.\u001B[39mtight_layout()\n\u001B[0;32m---> 29\u001B[0m \u001B[43mos\u001B[49m\u001B[38;5;241;43m.\u001B[39;49m\u001B[43mmakedirs\u001B[49m\u001B[43m(\u001B[49m\u001B[43msettings\u001B[49m\u001B[38;5;241;43m.\u001B[39;49m\u001B[43mfigures_dir\u001B[49m\u001B[43m \u001B[49m\u001B[38;5;241;43m/\u001B[39;49m\u001B[43m \u001B[49m\u001B[38;5;124;43m'\u001B[39;49m\u001B[38;5;124;43mmanuscript\u001B[39;49m\u001B[38;5;124;43m'\u001B[39;49m\u001B[43m \u001B[49m\u001B[38;5;241;43m/\u001B[39;49m\u001B[43m \u001B[49m\u001B[38;5;124;43m'\u001B[39;49m\u001B[38;5;124;43msemantic_pca\u001B[39;49m\u001B[38;5;124;43m'\u001B[39;49m\u001B[43m)\u001B[49m\n\u001B[1;32m     30\u001B[0m plt\u001B[38;5;241m.\u001B[39msavefig(settings\u001B[38;5;241m.\u001B[39mfigures_dir \u001B[38;5;241m/\u001B[39m \u001B[38;5;124m'\u001B[39m\u001B[38;5;124mmanuscript\u001B[39m\u001B[38;5;124m'\u001B[39m \u001B[38;5;241m/\u001B[39m \u001B[38;5;124m'\u001B[39m\u001B[38;5;124msemantic_pca\u001B[39m\u001B[38;5;124m'\u001B[39m \u001B[38;5;241m/\u001B[39m \u001B[38;5;124mf\u001B[39m\u001B[38;5;124m'\u001B[39m\u001B[38;5;124msemantic_pca_\u001B[39m\u001B[38;5;132;01m{\u001B[39;00morgan\u001B[38;5;132;01m}\u001B[39;00m\u001B[38;5;124m.pdf\u001B[39m\u001B[38;5;124m'\u001B[39m)\n\u001B[1;32m     31\u001B[0m plt\u001B[38;5;241m.\u001B[39msavefig(settings\u001B[38;5;241m.\u001B[39mfigures_dir \u001B[38;5;241m/\u001B[39m \u001B[38;5;124m'\u001B[39m\u001B[38;5;124mmanuscript\u001B[39m\u001B[38;5;124m'\u001B[39m \u001B[38;5;241m/\u001B[39m \u001B[38;5;124m'\u001B[39m\u001B[38;5;124msemantic_pca\u001B[39m\u001B[38;5;124m'\u001B[39m \u001B[38;5;241m/\u001B[39m \u001B[38;5;124mf\u001B[39m\u001B[38;5;124m'\u001B[39m\u001B[38;5;124msemantic_pca_\u001B[39m\u001B[38;5;132;01m{\u001B[39;00morgan\u001B[38;5;132;01m}\u001B[39;00m\u001B[38;5;124m.png\u001B[39m\u001B[38;5;124m'\u001B[39m, dpi\u001B[38;5;241m=\u001B[39m\u001B[38;5;241m300\u001B[39m)\n",
      "File \u001B[0;32m/usr/lib/python3.8/os.py:223\u001B[0m, in \u001B[0;36mmakedirs\u001B[0;34m(name, mode, exist_ok)\u001B[0m\n\u001B[1;32m    221\u001B[0m         \u001B[38;5;28;01mreturn\u001B[39;00m\n\u001B[1;32m    222\u001B[0m \u001B[38;5;28;01mtry\u001B[39;00m:\n\u001B[0;32m--> 223\u001B[0m     \u001B[43mmkdir\u001B[49m\u001B[43m(\u001B[49m\u001B[43mname\u001B[49m\u001B[43m,\u001B[49m\u001B[43m \u001B[49m\u001B[43mmode\u001B[49m\u001B[43m)\u001B[49m\n\u001B[1;32m    224\u001B[0m \u001B[38;5;28;01mexcept\u001B[39;00m \u001B[38;5;167;01mOSError\u001B[39;00m:\n\u001B[1;32m    225\u001B[0m     \u001B[38;5;66;03m# Cannot rely on checking for EEXIST, since the operating system\u001B[39;00m\n\u001B[1;32m    226\u001B[0m     \u001B[38;5;66;03m# could give priority to other errors like EACCES or EROFS\u001B[39;00m\n\u001B[1;32m    227\u001B[0m     \u001B[38;5;28;01mif\u001B[39;00m \u001B[38;5;129;01mnot\u001B[39;00m exist_ok \u001B[38;5;129;01mor\u001B[39;00m \u001B[38;5;129;01mnot\u001B[39;00m path\u001B[38;5;241m.\u001B[39misdir(name):\n",
      "\u001B[0;31mFileExistsError\u001B[0m: [Errno 17] File exists: '/home/kris/Work/Data/Test/figures/manuscript/semantic_pca'"
     ]
    },
    {
     "data": {
      "text/plain": [
       "<Figure size 600x600 with 0 Axes>"
      ]
     },
     "metadata": {},
     "output_type": "display_data"
    },
    {
     "data": {
      "image/png": "[encoded data removed]",
      "text/plain": [
       "<Figure size 600x600 with 3 Axes>"
      ]
     },
     "metadata": {},
     "output_type": "display_data"
    }
   ],
   "source": [
    "df = pd.read_csv(settings.figures_dir  / 'semantic_pca.csv')\n",
    "df, mapper = prepare_data(df)\n",
    "sns.set_style('whitegrid', {\"grid.color\": \"ebf0f8ff\", \"grid.linewidth\": 1})\n",
    "plt.rcParams[\"font.family\"] = \"serif\"\n",
    "plt.rcParams[\"font.serif\"] = [font_type]\n",
    "plt.rcParams[\"font.size\"] = 14\n",
    "\n",
    "for organ in df.organ.unique():\n",
    "    model_file = settings.results_dir / 'pca' / f\"semantic_pca_{'_'.join(organ.split(' '))}.joblib\"\n",
    "    model = joblib.load(model_file)\n",
    "    tmp = df[df['organ'] == organ].copy()\n",
    "    tmp = tmp.rename({'pc_1': f\"PC 1 [{round(model.explained_variance_ratio_[0]*100)}%]\",\n",
    "                       'pc_2': f\"PC 2 [{round(model.explained_variance_ratio_[1]*100)}%]\"},\n",
    "                     axis=1)\n",
    "    g = sns.jointplot(data=tmp,\n",
    "                      x=f\"PC 1 [{round(model.explained_variance_ratio_[0]*100)}%]\",\n",
    "                      y=f\"PC 2 [{round(model.explained_variance_ratio_[1]*100)}%]\",\n",
    "                      hue=\"data\",\n",
    "                      kind=\"kde\",\n",
    "                      fill=True,\n",
    "                      alpha=0.4,\n",
    "                      marginal_kws={'common_norm': False},\n",
    "                      palette=cmap_qualitative,\n",
    "                      levels=10)\n",
    "    leg = g.figure.axes[0].get_legend()\n",
    "    leg.set_title(\"\")\n",
    "    sns.despine(left=True, bottom=True)\n",
    "    plt.tight_layout()\n",
    "    os.makedirs(settings.figures_dir / 'manuscript' / 'semantic_pca')\n",
    "    plt.savefig(settings.figures_dir / 'manuscript' / 'semantic_pca' / f'semantic_pca_{organ}.pdf')\n",
    "    plt.savefig(settings.figures_dir / 'manuscript' / 'semantic_pca' / f'semantic_pca_{organ}.png', dpi=300)\n",
    "    plt.clf()"
   ]
  },
  {
   "cell_type": "markdown",
   "metadata": {},
   "source": [
    "# plot PAI signal"
   ]
  },
  {
   "cell_type": "code",
   "execution_count": 9,
   "metadata": {
    "execution": {
     "iopub.execute_input": "2023-08-08T09:51:38.213624Z",
     "iopub.status.busy": "2023-08-08T09:51:38.213515Z",
     "iopub.status.idle": "2023-08-08T09:51:40.398357Z",
     "shell.execute_reply": "2023-08-08T09:51:40.397955Z"
    }
   },
   "outputs": [
    {
     "ename": "FileExistsError",
     "evalue": "[Errno 17] File exists: '/home/kris/Work/Data/Test/figures/manuscript'",
     "output_type": "error",
     "traceback": [
      "\u001B[0;31m---------------------------------------------------------------------------\u001B[0m",
      "\u001B[0;31mFileExistsError\u001B[0m                           Traceback (most recent call last)",
      "Cell \u001B[0;32mIn[9], line 23\u001B[0m\n\u001B[1;32m     21\u001B[0m fig\u001B[38;5;241m.\u001B[39mupdate_yaxes(title_font\u001B[38;5;241m=\u001B[39m\u001B[38;5;28mdict\u001B[39m(size\u001B[38;5;241m=\u001B[39mfont_size, family\u001B[38;5;241m=\u001B[39mfont_type))\n\u001B[1;32m     22\u001B[0m fig\u001B[38;5;241m.\u001B[39mfor_each_annotation(\u001B[38;5;28;01mlambda\u001B[39;00m a: a\u001B[38;5;241m.\u001B[39mupdate(text\u001B[38;5;241m=\u001B[39ma\u001B[38;5;241m.\u001B[39mtext\u001B[38;5;241m.\u001B[39msplit(\u001B[38;5;124m\"\u001B[39m\u001B[38;5;124m=\u001B[39m\u001B[38;5;124m\"\u001B[39m)[\u001B[38;5;241m-\u001B[39m\u001B[38;5;241m1\u001B[39m]))\n\u001B[0;32m---> 23\u001B[0m \u001B[43mos\u001B[49m\u001B[38;5;241;43m.\u001B[39;49m\u001B[43mmakedirs\u001B[49m\u001B[43m(\u001B[49m\u001B[43msettings\u001B[49m\u001B[38;5;241;43m.\u001B[39;49m\u001B[43mfigures_dir\u001B[49m\u001B[43m \u001B[49m\u001B[38;5;241;43m/\u001B[39;49m\u001B[43m \u001B[49m\u001B[38;5;124;43m'\u001B[39;49m\u001B[38;5;124;43mmanuscript\u001B[39;49m\u001B[38;5;124;43m'\u001B[39;49m\u001B[43m)\u001B[49m\n\u001B[1;32m     24\u001B[0m fig\u001B[38;5;241m.\u001B[39mwrite_image(settings\u001B[38;5;241m.\u001B[39mfigures_dir \u001B[38;5;241m/\u001B[39m \u001B[38;5;124m'\u001B[39m\u001B[38;5;124mmanuscript\u001B[39m\u001B[38;5;124m'\u001B[39m \u001B[38;5;241m/\u001B[39m \u001B[38;5;124mf\u001B[39m\u001B[38;5;124m'\u001B[39m\u001B[38;5;124mpai_signal_\u001B[39m\u001B[38;5;132;01m{\u001B[39;00mtissue\u001B[38;5;132;01m}\u001B[39;00m\u001B[38;5;124m.pdf\u001B[39m\u001B[38;5;124m'\u001B[39m)\n\u001B[1;32m     25\u001B[0m fig\u001B[38;5;241m.\u001B[39mwrite_image(settings\u001B[38;5;241m.\u001B[39mfigures_dir \u001B[38;5;241m/\u001B[39m \u001B[38;5;124m'\u001B[39m\u001B[38;5;124mmanuscript\u001B[39m\u001B[38;5;124m'\u001B[39m \u001B[38;5;241m/\u001B[39m \u001B[38;5;124mf\u001B[39m\u001B[38;5;124m'\u001B[39m\u001B[38;5;124mpai_signal_\u001B[39m\u001B[38;5;132;01m{\u001B[39;00mtissue\u001B[38;5;132;01m}\u001B[39;00m\u001B[38;5;124m.svg\u001B[39m\u001B[38;5;124m'\u001B[39m)\n",
      "File \u001B[0;32m/usr/lib/python3.8/os.py:223\u001B[0m, in \u001B[0;36mmakedirs\u001B[0;34m(name, mode, exist_ok)\u001B[0m\n\u001B[1;32m    221\u001B[0m         \u001B[38;5;28;01mreturn\u001B[39;00m\n\u001B[1;32m    222\u001B[0m \u001B[38;5;28;01mtry\u001B[39;00m:\n\u001B[0;32m--> 223\u001B[0m     \u001B[43mmkdir\u001B[49m\u001B[43m(\u001B[49m\u001B[43mname\u001B[49m\u001B[43m,\u001B[49m\u001B[43m \u001B[49m\u001B[43mmode\u001B[49m\u001B[43m)\u001B[49m\n\u001B[1;32m    224\u001B[0m \u001B[38;5;28;01mexcept\u001B[39;00m \u001B[38;5;167;01mOSError\u001B[39;00m:\n\u001B[1;32m    225\u001B[0m     \u001B[38;5;66;03m# Cannot rely on checking for EEXIST, since the operating system\u001B[39;00m\n\u001B[1;32m    226\u001B[0m     \u001B[38;5;66;03m# could give priority to other errors like EACCES or EROFS\u001B[39;00m\n\u001B[1;32m    227\u001B[0m     \u001B[38;5;28;01mif\u001B[39;00m \u001B[38;5;129;01mnot\u001B[39;00m exist_ok \u001B[38;5;129;01mor\u001B[39;00m \u001B[38;5;129;01mnot\u001B[39;00m path\u001B[38;5;241m.\u001B[39misdir(name):\n",
      "\u001B[0;31mFileExistsError\u001B[0m: [Errno 17] File exists: '/home/kris/Work/Data/Test/figures/manuscript'"
     ]
    }
   ],
   "source": [
    "df = pd.read_csv(settings.figures_dir / 'pai_signal.csv')\n",
    "df, mapper = prepare_data(df)\n",
    "for tissue in df.tissue.unique():\n",
    "    tmp = df[df.tissue == tissue]\n",
    "    fig, _ = line(data_frame=tmp,\n",
    "                  x=mapper.get(\"wavelength\"),\n",
    "                  y=mapper.get('pai_signal'),\n",
    "                  facet_col=None,\n",
    "                  color=\"data\",\n",
    "                  template=\"plotly_white\",\n",
    "                  color_discrete_map=cmap_qualitative,\n",
    "                  width=500,\n",
    "                  category_orders=dict(data=['real', 'simulated', 'UNIT', 'cINN'])\n",
    "               )\n",
    "    font_size = 20\n",
    "    fig.update_layout(font=dict(size=font_size, family=font_type, color=\"#000000\"),\n",
    "                      legend=dict(orientation=\"h\", xanchor=\"center\", x=0.5, y=1, title=\"\"),\n",
    "                      margin=dict(l=20, r=10, t=10, b=20)\n",
    "                      )\n",
    "    fig.update_xaxes(title_font=dict(size=font_size, family=font_type))\n",
    "    fig.update_yaxes(title_font=dict(size=font_size, family=font_type))\n",
    "    fig.for_each_annotation(lambda a: a.update(text=a.text.split(\"=\")[-1]))\n",
    "    os.makedirs(settings.figures_dir / 'manuscript')\n",
    "    fig.write_image(settings.figures_dir / 'manuscript' / f'pai_signal_{tissue}.pdf')\n",
    "    fig.write_image(settings.figures_dir / 'manuscript' / f'pai_signal_{tissue}.svg')\n",
    "    fig.write_image(settings.figures_dir / 'manuscript' / f'pai_signal_{tissue}.png', scale=2)"
   ]
  },
  {
   "cell_type": "markdown",
   "metadata": {},
   "source": [
    "# plot PAI metrics"
   ]
  },
  {
   "cell_type": "code",
   "execution_count": 10,
   "metadata": {
    "execution": {
     "iopub.execute_input": "2023-08-08T09:51:40.400569Z",
     "iopub.status.busy": "2023-08-08T09:51:40.400458Z",
     "iopub.status.idle": "2023-08-08T09:51:40.403515Z",
     "shell.execute_reply": "2023-08-08T09:51:40.403032Z"
    }
   },
   "outputs": [],
   "source": [
    "# metrics_file = settings.results_dir / 'rf_pa' / 'rf_classifier_metrics.csv'\n",
    "# df = pd.read_csv(metrics_file, index_col=None, header=[0])\n",
    "# df = df.melt(id_vars=[\"data\"], value_name=\"metric value\", var_name=\"metric\")\n",
    "# metric_df, mapper, real_base = compute_metric_diff(df=df)\n",
    "# fig = px.bar(\n",
    "#     data_frame=metric_df,\n",
    "#     x=\"data\",\n",
    "#     y=mapper.get('metric diff'),\n",
    "#     color=\"data\",\n",
    "#     facet_col=\"metric\",\n",
    "#     color_discrete_map=cmap_qualitative,\n",
    "#     template=\"plotly_white\",\n",
    "# )\n",
    "# fig.add_hline(\n",
    "#     y=0,\n",
    "#     line_color=cmap_qualitative.get('simulated'),\n",
    "#     annotation_font={'color': cmap_qualitative.get('simulated')},\n",
    "#     line_dash=\"dash\",\n",
    "#     line_width=4,\n",
    "#     annotation_text=\"\",\n",
    "#     annotation_position=\"bottom right\",\n",
    "#     annotation_font_size=14,\n",
    "#     annotation_font_color=cmap_qualitative.get('simulated'),\n",
    "#     row=\"all\",\n",
    "#     col=\"all\"\n",
    "#     )\n",
    "# font_size = 28\n",
    "# fig.update_xaxes(title_font=dict(size=font_size, family=font_type),\n",
    "#                  tickangle=270,\n",
    "#                  showticklabels=False,\n",
    "#                  title=\"\"\n",
    "#                  )\n",
    "#\n",
    "# fig.update_layout(font=dict(size=font_size, family=font_type, color=\"#000000\"),\n",
    "#                   legend=dict(orientation=\"h\", xanchor=\"center\", x=0.5, y=0., title=\"\"),\n",
    "#                   margin=dict(l=0, r=0, t=30, b=0)\n",
    "#                   )\n",
    "# fig.update_xaxes(title_font=dict(size=font_size, family=font_type), tickangle=270, title=\"\")\n",
    "# fig.update_yaxes(title_font=dict(size=font_size, family=font_type),\n",
    "#                  range=(-0.04, 0.24)\n",
    "#                  )\n",
    "# # fig.for_each_yaxis(lambda yaxis: yaxis.update(showticklabels=True))\n",
    "# fig.for_each_annotation(lambda a: a.update(text=a.text.split(\"=\")[-1]))\n",
    "# fig.write_image(settings.figures_dir / 'manuscript' / 'pai_metrics.pdf')\n",
    "# fig.write_image(settings.figures_dir / 'manuscript' / 'pai_metrics.svg')\n",
    "# fig.write_image(settings.figures_dir / 'manuscript' / 'pai_metrics.png', scale=2)"
   ]
  },
  {
   "cell_type": "markdown",
   "metadata": {},
   "source": [
    "# plot PAI signal differences"
   ]
  },
  {
   "cell_type": "code",
   "execution_count": 11,
   "metadata": {
    "execution": {
     "iopub.execute_input": "2023-08-08T09:51:40.405867Z",
     "iopub.status.busy": "2023-08-08T09:51:40.405540Z",
     "iopub.status.idle": "2023-08-08T09:51:40.498917Z",
     "shell.execute_reply": "2023-08-08T09:51:40.498543Z"
    }
   },
   "outputs": [
    {
     "ename": "FileExistsError",
     "evalue": "[Errno 17] File exists: '/home/kris/Work/Data/Test/figures/manuscript'",
     "output_type": "error",
     "traceback": [
      "\u001B[0;31m---------------------------------------------------------------------------\u001B[0m",
      "\u001B[0;31mFileExistsError\u001B[0m                           Traceback (most recent call last)",
      "Cell \u001B[0;32mIn[11], line 43\u001B[0m\n\u001B[1;32m     41\u001B[0m fig\u001B[38;5;241m.\u001B[39mupdate_yaxes(title_font\u001B[38;5;241m=\u001B[39m\u001B[38;5;28mdict\u001B[39m(size\u001B[38;5;241m=\u001B[39mfont_size, family\u001B[38;5;241m=\u001B[39mfont_type))\n\u001B[1;32m     42\u001B[0m fig\u001B[38;5;241m.\u001B[39mfor_each_annotation(\u001B[38;5;28;01mlambda\u001B[39;00m a: a\u001B[38;5;241m.\u001B[39mupdate(text\u001B[38;5;241m=\u001B[39ma\u001B[38;5;241m.\u001B[39mtext\u001B[38;5;241m.\u001B[39msplit(\u001B[38;5;124m\"\u001B[39m\u001B[38;5;124m=\u001B[39m\u001B[38;5;124m\"\u001B[39m)[\u001B[38;5;241m-\u001B[39m\u001B[38;5;241m1\u001B[39m]))\n\u001B[0;32m---> 43\u001B[0m \u001B[43mos\u001B[49m\u001B[38;5;241;43m.\u001B[39;49m\u001B[43mmakedirs\u001B[49m\u001B[43m(\u001B[49m\u001B[43msettings\u001B[49m\u001B[38;5;241;43m.\u001B[39;49m\u001B[43mfigures_dir\u001B[49m\u001B[43m \u001B[49m\u001B[38;5;241;43m/\u001B[39;49m\u001B[43m \u001B[49m\u001B[38;5;124;43m'\u001B[39;49m\u001B[38;5;124;43mmanuscript\u001B[39;49m\u001B[38;5;124;43m'\u001B[39;49m\u001B[43m)\u001B[49m\n\u001B[1;32m     44\u001B[0m fig\u001B[38;5;241m.\u001B[39mwrite_image(settings\u001B[38;5;241m.\u001B[39mfigures_dir \u001B[38;5;241m/\u001B[39m \u001B[38;5;124m'\u001B[39m\u001B[38;5;124mmanuscript\u001B[39m\u001B[38;5;124m'\u001B[39m \u001B[38;5;241m/\u001B[39m \u001B[38;5;124mf\u001B[39m\u001B[38;5;124m'\u001B[39m\u001B[38;5;124mpai_diff_\u001B[39m\u001B[38;5;132;01m{\u001B[39;00mtissue\u001B[38;5;132;01m}\u001B[39;00m\u001B[38;5;124m.pdf\u001B[39m\u001B[38;5;124m'\u001B[39m)\n\u001B[1;32m     45\u001B[0m fig\u001B[38;5;241m.\u001B[39mwrite_image(settings\u001B[38;5;241m.\u001B[39mfigures_dir \u001B[38;5;241m/\u001B[39m \u001B[38;5;124m'\u001B[39m\u001B[38;5;124mmanuscript\u001B[39m\u001B[38;5;124m'\u001B[39m \u001B[38;5;241m/\u001B[39m \u001B[38;5;124mf\u001B[39m\u001B[38;5;124m'\u001B[39m\u001B[38;5;124mpai_diff_\u001B[39m\u001B[38;5;132;01m{\u001B[39;00mtissue\u001B[38;5;132;01m}\u001B[39;00m\u001B[38;5;124m.svg\u001B[39m\u001B[38;5;124m'\u001B[39m)\n",
      "File \u001B[0;32m/usr/lib/python3.8/os.py:223\u001B[0m, in \u001B[0;36mmakedirs\u001B[0;34m(name, mode, exist_ok)\u001B[0m\n\u001B[1;32m    221\u001B[0m         \u001B[38;5;28;01mreturn\u001B[39;00m\n\u001B[1;32m    222\u001B[0m \u001B[38;5;28;01mtry\u001B[39;00m:\n\u001B[0;32m--> 223\u001B[0m     \u001B[43mmkdir\u001B[49m\u001B[43m(\u001B[49m\u001B[43mname\u001B[49m\u001B[43m,\u001B[49m\u001B[43m \u001B[49m\u001B[43mmode\u001B[49m\u001B[43m)\u001B[49m\n\u001B[1;32m    224\u001B[0m \u001B[38;5;28;01mexcept\u001B[39;00m \u001B[38;5;167;01mOSError\u001B[39;00m:\n\u001B[1;32m    225\u001B[0m     \u001B[38;5;66;03m# Cannot rely on checking for EEXIST, since the operating system\u001B[39;00m\n\u001B[1;32m    226\u001B[0m     \u001B[38;5;66;03m# could give priority to other errors like EACCES or EROFS\u001B[39;00m\n\u001B[1;32m    227\u001B[0m     \u001B[38;5;28;01mif\u001B[39;00m \u001B[38;5;129;01mnot\u001B[39;00m exist_ok \u001B[38;5;129;01mor\u001B[39;00m \u001B[38;5;129;01mnot\u001B[39;00m path\u001B[38;5;241m.\u001B[39misdir(name):\n",
      "\u001B[0;31mFileExistsError\u001B[0m: [Errno 17] File exists: '/home/kris/Work/Data/Test/figures/manuscript'"
     ]
    }
   ],
   "source": [
    "df = pd.read_csv(settings.figures_dir / 'pai_diff.csv')\n",
    "if 'difference [%]' in df.columns:\n",
    "    df['difference [%]'] *= 100\n",
    "df, mapper = prepare_data(df)\n",
    "tissues = df.tissue.unique()\n",
    "for tissue in tissues:\n",
    "    tmp = df[df.tissue==tissue]\n",
    "    fig = px.violin(data_frame=tmp,\n",
    "                 x=\"data\",\n",
    "                 y=mapper.get('difference'),\n",
    "                 color=\"data\",\n",
    "                 color_discrete_map=cmap_qualitative,\n",
    "                 template=\"plotly_white\",\n",
    "                 category_orders=dict(tissue=['vein', 'artery'], data=['real - simulated', 'real - UNIT', 'real - cINN']),\n",
    "                 facet_col_spacing=0.05,\n",
    "                    width=600,\n",
    "                    height=500,\n",
    "                    points=\"all\"\n",
    "                 )\n",
    "    fig.update_traces(scalemode='width', meanline_visible=True)\n",
    "    TRACE_INDEX = []\n",
    "    def split_scale_group(tr):\n",
    "        if TRACE_INDEX:\n",
    "            TRACE_INDEX.append(TRACE_INDEX[-1] + 1)\n",
    "        else:\n",
    "            TRACE_INDEX.append(0)\n",
    "        tr.scalegroup = TRACE_INDEX[-1]\n",
    "        return tr\n",
    "    fig.for_each_trace(split_scale_group)\n",
    "    fig.update_traces(line=dict(width=4))\n",
    "    font_size = 24\n",
    "    fig.update_layout(font=dict(size=font_size, family=font_type, color=\"#000000\"),\n",
    "                      legend=dict(orientation=\"h\", xanchor=\"center\", x=0.5, y=0., title=\"\", font_size=font_size),\n",
    "                      margin=dict(l=0, r=0, t=0, b=0),\n",
    "                      )\n",
    "    fig.update_xaxes(title_font=dict(size=font_size, family=font_type),\n",
    "                     tickangle=0,\n",
    "                     showticklabels=False,\n",
    "                     title=\"\"\n",
    "                     )\n",
    "    fig.update_yaxes(title_font=dict(size=font_size, family=font_type))\n",
    "    fig.for_each_annotation(lambda a: a.update(text=a.text.split(\"=\")[-1]))\n",
    "    os.makedirs(settings.figures_dir / 'manuscript')\n",
    "    fig.write_image(settings.figures_dir / 'manuscript' / f'pai_diff_{tissue}.pdf')\n",
    "    fig.write_image(settings.figures_dir / 'manuscript' / f'pai_diff_{tissue}.svg')\n",
    "    fig.write_image(settings.figures_dir / 'manuscript' / f'pai_diff_{tissue}.png', scale=2)"
   ]
  },
  {
   "cell_type": "markdown",
   "metadata": {},
   "source": [
    "# plot PAI PCA"
   ]
  },
  {
   "cell_type": "code",
   "execution_count": 12,
   "metadata": {
    "execution": {
     "iopub.execute_input": "2023-08-08T09:51:40.501397Z",
     "iopub.status.busy": "2023-08-08T09:51:40.501223Z",
     "iopub.status.idle": "2023-08-08T09:52:45.034939Z",
     "shell.execute_reply": "2023-08-08T09:52:45.034338Z"
    }
   },
   "outputs": [
    {
     "ename": "FileExistsError",
     "evalue": "[Errno 17] File exists: '/home/kris/Work/Data/Test/figures/manuscript'",
     "output_type": "error",
     "traceback": [
      "\u001B[0;31m---------------------------------------------------------------------------\u001B[0m",
      "\u001B[0;31mFileExistsError\u001B[0m                           Traceback (most recent call last)",
      "Cell \u001B[0;32mIn[12], line 31\u001B[0m\n\u001B[1;32m     29\u001B[0m sns\u001B[38;5;241m.\u001B[39mdespine(left\u001B[38;5;241m=\u001B[39m\u001B[38;5;28;01mTrue\u001B[39;00m, bottom\u001B[38;5;241m=\u001B[39m\u001B[38;5;28;01mTrue\u001B[39;00m)\n\u001B[1;32m     30\u001B[0m plt\u001B[38;5;241m.\u001B[39mtight_layout()\n\u001B[0;32m---> 31\u001B[0m \u001B[43mos\u001B[49m\u001B[38;5;241;43m.\u001B[39;49m\u001B[43mmakedirs\u001B[49m\u001B[43m(\u001B[49m\u001B[43msettings\u001B[49m\u001B[38;5;241;43m.\u001B[39;49m\u001B[43mfigures_dir\u001B[49m\u001B[43m \u001B[49m\u001B[38;5;241;43m/\u001B[39;49m\u001B[43m \u001B[49m\u001B[38;5;124;43m'\u001B[39;49m\u001B[38;5;124;43mmanuscript\u001B[39;49m\u001B[38;5;124;43m'\u001B[39;49m\u001B[43m)\u001B[49m\n\u001B[1;32m     32\u001B[0m plt\u001B[38;5;241m.\u001B[39msavefig(settings\u001B[38;5;241m.\u001B[39mfigures_dir \u001B[38;5;241m/\u001B[39m \u001B[38;5;124m'\u001B[39m\u001B[38;5;124mmanuscript\u001B[39m\u001B[38;5;124m'\u001B[39m \u001B[38;5;241m/\u001B[39m \u001B[38;5;124mf\u001B[39m\u001B[38;5;124m'\u001B[39m\u001B[38;5;124mpai_pca_\u001B[39m\u001B[38;5;132;01m{\u001B[39;00mtissue\u001B[38;5;132;01m}\u001B[39;00m\u001B[38;5;124m.pdf\u001B[39m\u001B[38;5;124m'\u001B[39m)\n\u001B[1;32m     33\u001B[0m plt\u001B[38;5;241m.\u001B[39msavefig(settings\u001B[38;5;241m.\u001B[39mfigures_dir \u001B[38;5;241m/\u001B[39m \u001B[38;5;124m'\u001B[39m\u001B[38;5;124mmanuscript\u001B[39m\u001B[38;5;124m'\u001B[39m \u001B[38;5;241m/\u001B[39m \u001B[38;5;124mf\u001B[39m\u001B[38;5;124m'\u001B[39m\u001B[38;5;124mpai_pca_\u001B[39m\u001B[38;5;132;01m{\u001B[39;00mtissue\u001B[38;5;132;01m}\u001B[39;00m\u001B[38;5;124m.svg\u001B[39m\u001B[38;5;124m'\u001B[39m)\n",
      "File \u001B[0;32m/usr/lib/python3.8/os.py:223\u001B[0m, in \u001B[0;36mmakedirs\u001B[0;34m(name, mode, exist_ok)\u001B[0m\n\u001B[1;32m    221\u001B[0m         \u001B[38;5;28;01mreturn\u001B[39;00m\n\u001B[1;32m    222\u001B[0m \u001B[38;5;28;01mtry\u001B[39;00m:\n\u001B[0;32m--> 223\u001B[0m     \u001B[43mmkdir\u001B[49m\u001B[43m(\u001B[49m\u001B[43mname\u001B[49m\u001B[43m,\u001B[49m\u001B[43m \u001B[49m\u001B[43mmode\u001B[49m\u001B[43m)\u001B[49m\n\u001B[1;32m    224\u001B[0m \u001B[38;5;28;01mexcept\u001B[39;00m \u001B[38;5;167;01mOSError\u001B[39;00m:\n\u001B[1;32m    225\u001B[0m     \u001B[38;5;66;03m# Cannot rely on checking for EEXIST, since the operating system\u001B[39;00m\n\u001B[1;32m    226\u001B[0m     \u001B[38;5;66;03m# could give priority to other errors like EACCES or EROFS\u001B[39;00m\n\u001B[1;32m    227\u001B[0m     \u001B[38;5;28;01mif\u001B[39;00m \u001B[38;5;129;01mnot\u001B[39;00m exist_ok \u001B[38;5;129;01mor\u001B[39;00m \u001B[38;5;129;01mnot\u001B[39;00m path\u001B[38;5;241m.\u001B[39misdir(name):\n",
      "\u001B[0;31mFileExistsError\u001B[0m: [Errno 17] File exists: '/home/kris/Work/Data/Test/figures/manuscript'"
     ]
    },
    {
     "data": {
      "image/png": "[encoded data removed]",
      "text/plain": [
       "<Figure size 600x600 with 3 Axes>"
      ]
     },
     "metadata": {},
     "output_type": "display_data"
    }
   ],
   "source": [
    "df = pd.read_csv(settings.results_dir / 'pca' / 'pai_pca.csv')\n",
    "# df = df[df['data'] != 'unit']\n",
    "df, mapper = prepare_data(df)\n",
    "sns.set_style('whitegrid', {\"grid.color\": \"ebf0f8ff\", \"grid.linewidth\": 1})\n",
    "plt.rcParams[\"font.family\"] = \"serif\"\n",
    "plt.rcParams[\"font.serif\"] = [font_type]\n",
    "plt.rcParams[\"font.size\"] = 20\n",
    "\n",
    "for tissue in df.tissue.unique():\n",
    "    model_file = settings.results_dir / 'pca' / f'pai_pca_{tissue}.joblib'\n",
    "    model = joblib.load(model_file)\n",
    "    tmp = df[df['tissue'] == tissue].copy()\n",
    "    tmp = tmp.rename({'pc_1': f\"PC 1 [{round(model.explained_variance_ratio_[0]*100)}%]\",\n",
    "                       'pc_2': f\"PC 2 [{round(model.explained_variance_ratio_[1]*100)}%]\"},\n",
    "                     axis=1)\n",
    "    g = sns.jointplot(data=tmp,\n",
    "                      x=f\"PC 1 [{round(model.explained_variance_ratio_[0]*100)}%]\",\n",
    "                      y=f\"PC 2 [{round(model.explained_variance_ratio_[1]*100)}%]\",\n",
    "                      hue=\"data\",\n",
    "                      kind=\"kde\",\n",
    "                      fill=True,\n",
    "                      alpha=0.4,\n",
    "                      marginal_kws={'common_norm': False},\n",
    "                      palette=cmap_qualitative,\n",
    "                      levels=10)\n",
    "    leg.set_title(\"\")\n",
    "    plt.xlim(-0.3, 0.3)\n",
    "    plt.ylim(-0.1, 0.1)\n",
    "    sns.despine(left=True, bottom=True)\n",
    "    plt.tight_layout()\n",
    "    os.makedirs(settings.figures_dir / 'manuscript')\n",
    "    plt.savefig(settings.figures_dir / 'manuscript' / f'pai_pca_{tissue}.pdf')\n",
    "    plt.savefig(settings.figures_dir / 'manuscript' / f'pai_pca_{tissue}.svg')\n",
    "    plt.savefig(settings.figures_dir / 'manuscript' / f'pai_pca_{tissue}.png', dpi=300)"
   ]
  },
  {
   "cell_type": "markdown",
   "metadata": {},
   "source": [
    "# plot PAI confusion matrices"
   ]
  },
  {
   "cell_type": "code",
   "execution_count": 13,
   "metadata": {
    "execution": {
     "iopub.execute_input": "2023-08-08T09:52:45.037713Z",
     "iopub.status.busy": "2023-08-08T09:52:45.037537Z",
     "iopub.status.idle": "2023-08-08T09:52:45.093255Z",
     "shell.execute_reply": "2023-08-08T09:52:45.092755Z"
    }
   },
   "outputs": [
    {
     "ename": "FileExistsError",
     "evalue": "[Errno 17] File exists: '/home/kris/Work/Data/Test/figures/manuscript'",
     "output_type": "error",
     "traceback": [
      "\u001B[0;31m---------------------------------------------------------------------------\u001B[0m",
      "\u001B[0;31mFileExistsError\u001B[0m                           Traceback (most recent call last)",
      "Cell \u001B[0;32mIn[13], line 41\u001B[0m\n\u001B[1;32m     39\u001B[0m fig\u001B[38;5;241m.\u001B[39mupdate_yaxes(title\u001B[38;5;241m=\u001B[39m\u001B[38;5;124m\"\u001B[39m\u001B[38;5;124mtrue class\u001B[39m\u001B[38;5;124m\"\u001B[39m, title_font\u001B[38;5;241m=\u001B[39m\u001B[38;5;28mdict\u001B[39m(size\u001B[38;5;241m=\u001B[39m\u001B[38;5;241m40\u001B[39m, family\u001B[38;5;241m=\u001B[39mfont_type))\n\u001B[1;32m     40\u001B[0m fig\u001B[38;5;241m.\u001B[39mupdate_layout(font\u001B[38;5;241m=\u001B[39m\u001B[38;5;28mdict\u001B[39m(size\u001B[38;5;241m=\u001B[39m\u001B[38;5;241m40\u001B[39m, family\u001B[38;5;241m=\u001B[39mfont_type, color\u001B[38;5;241m=\u001B[39m\u001B[38;5;124m\"\u001B[39m\u001B[38;5;124m#000000\u001B[39m\u001B[38;5;124m\"\u001B[39m))\n\u001B[0;32m---> 41\u001B[0m \u001B[43mos\u001B[49m\u001B[38;5;241;43m.\u001B[39;49m\u001B[43mmakedirs\u001B[49m\u001B[43m(\u001B[49m\u001B[43msettings\u001B[49m\u001B[38;5;241;43m.\u001B[39;49m\u001B[43mfigures_dir\u001B[49m\u001B[43m \u001B[49m\u001B[38;5;241;43m/\u001B[39;49m\u001B[43m \u001B[49m\u001B[38;5;124;43m'\u001B[39;49m\u001B[38;5;124;43mmanuscript\u001B[39;49m\u001B[38;5;124;43m'\u001B[39;49m\u001B[43m)\u001B[49m\n\u001B[1;32m     42\u001B[0m fig\u001B[38;5;241m.\u001B[39mwrite_image(settings\u001B[38;5;241m.\u001B[39mfigures_dir \u001B[38;5;241m/\u001B[39m \u001B[38;5;124m'\u001B[39m\u001B[38;5;124mmanuscript\u001B[39m\u001B[38;5;124m'\u001B[39m \u001B[38;5;241m/\u001B[39m \u001B[38;5;124mf\u001B[39m\u001B[38;5;124m'\u001B[39m\u001B[38;5;124mpai_rf_confusion_matrix_pa_\u001B[39m\u001B[38;5;132;01m{\u001B[39;00mstage\u001B[38;5;132;01m}\u001B[39;00m\u001B[38;5;124m.pdf\u001B[39m\u001B[38;5;124m'\u001B[39m)\n\u001B[1;32m     43\u001B[0m fig\u001B[38;5;241m.\u001B[39mwrite_image(settings\u001B[38;5;241m.\u001B[39mfigures_dir \u001B[38;5;241m/\u001B[39m \u001B[38;5;124m'\u001B[39m\u001B[38;5;124mmanuscript\u001B[39m\u001B[38;5;124m'\u001B[39m \u001B[38;5;241m/\u001B[39m \u001B[38;5;124mf\u001B[39m\u001B[38;5;124m'\u001B[39m\u001B[38;5;124mpai_rf_confusion_matrix_pa_\u001B[39m\u001B[38;5;132;01m{\u001B[39;00mstage\u001B[38;5;132;01m}\u001B[39;00m\u001B[38;5;124m.svg\u001B[39m\u001B[38;5;124m'\u001B[39m)\n",
      "File \u001B[0;32m/usr/lib/python3.8/os.py:223\u001B[0m, in \u001B[0;36mmakedirs\u001B[0;34m(name, mode, exist_ok)\u001B[0m\n\u001B[1;32m    221\u001B[0m         \u001B[38;5;28;01mreturn\u001B[39;00m\n\u001B[1;32m    222\u001B[0m \u001B[38;5;28;01mtry\u001B[39;00m:\n\u001B[0;32m--> 223\u001B[0m     \u001B[43mmkdir\u001B[49m\u001B[43m(\u001B[49m\u001B[43mname\u001B[49m\u001B[43m,\u001B[49m\u001B[43m \u001B[49m\u001B[43mmode\u001B[49m\u001B[43m)\u001B[49m\n\u001B[1;32m    224\u001B[0m \u001B[38;5;28;01mexcept\u001B[39;00m \u001B[38;5;167;01mOSError\u001B[39;00m:\n\u001B[1;32m    225\u001B[0m     \u001B[38;5;66;03m# Cannot rely on checking for EEXIST, since the operating system\u001B[39;00m\n\u001B[1;32m    226\u001B[0m     \u001B[38;5;66;03m# could give priority to other errors like EACCES or EROFS\u001B[39;00m\n\u001B[1;32m    227\u001B[0m     \u001B[38;5;28;01mif\u001B[39;00m \u001B[38;5;129;01mnot\u001B[39;00m exist_ok \u001B[38;5;129;01mor\u001B[39;00m \u001B[38;5;129;01mnot\u001B[39;00m path\u001B[38;5;241m.\u001B[39misdir(name):\n",
      "\u001B[0;31mFileExistsError\u001B[0m: [Errno 17] File exists: '/home/kris/Work/Data/Test/figures/manuscript'"
     ]
    }
   ],
   "source": [
    "stages = [\n",
    "    'real',\n",
    "    'simulated',\n",
    "    'cINN',\n",
    "    'UNIT'\n",
    "]\n",
    "mapping = get_pa_label_mapping()\n",
    "for stage in stages:\n",
    "    file = settings.results_dir / 'rf_pa' / f\"rf_pa_classifier_matrix_{stage}.npz\"\n",
    "    data = np.load(file)\n",
    "    matrix = data['matrix']\n",
    "    labels = data['labels']\n",
    "    names = [mapping.get(l) for l in labels]\n",
    "    names = [' '.join(n.split('_')) for n in names]\n",
    "    fig = px.imshow(matrix,\n",
    "                    text_auto='.2f',\n",
    "                    color_continuous_scale=cmap_quantitative_list.get(stage),\n",
    "                    zmin=0,\n",
    "                    zmax=1,\n",
    "                    template='plotly_white',\n",
    "                    labels={'small_bowel': 'small bowel'}\n",
    "                    )\n",
    "    axis_ticks = dict(\n",
    "            tickmode='array',\n",
    "            tickvals=np.arange(0, len(names)),\n",
    "            ticktext=names\n",
    "        )\n",
    "    fig.update_layout(\n",
    "        xaxis=axis_ticks,\n",
    "        yaxis=axis_ticks,\n",
    "        coloraxis_colorbar=dict(\n",
    "            title=dict(text=\"\", side=\"right\"),\n",
    "            x=0.85,\n",
    "            ticks=\"outside\",\n",
    "            ticksuffix=\"\",\n",
    "        )\n",
    "    )\n",
    "    fig.update_xaxes(title=\"predicted class\", title_font=dict(size=40, family=font_type))\n",
    "    fig.update_yaxes(title=\"true class\", title_font=dict(size=40, family=font_type))\n",
    "    fig.update_layout(font=dict(size=40, family=font_type, color=\"#000000\"))\n",
    "    os.makedirs(settings.figures_dir / 'manuscript')\n",
    "    fig.write_image(settings.figures_dir / 'manuscript' / f'pai_rf_confusion_matrix_pa_{stage}.pdf')\n",
    "    fig.write_image(settings.figures_dir / 'manuscript' / f'pai_rf_confusion_matrix_pa_{stage}.svg')\n",
    "    fig.write_image(settings.figures_dir / 'manuscript' / f'pai_rf_confusion_matrix_pa_{stage}.png', scale=2)"
   ]
  },
  {
   "cell_type": "code",
   "execution_count": null,
   "metadata": {},
   "outputs": [],
   "source": []
  }
 ],
 "metadata": {
  "kernelspec": {
   "display_name": "Python 3 (ipykernel)",
   "language": "python",
   "name": "python3"
  },
  "language_info": {
   "codemirror_mode": {
    "name": "ipython",
    "version": 3
   },
   "file_extension": ".py",
   "mimetype": "text/x-python",
   "name": "python",
   "nbconvert_exporter": "python",
   "pygments_lexer": "ipython3",
   "version": "3.8.10"
  }
 },
 "nbformat": 4,
 "nbformat_minor": 1
}