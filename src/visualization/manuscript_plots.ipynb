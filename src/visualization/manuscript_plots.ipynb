{
 "cells": [
  {
   "cell_type": "code",
   "execution_count": 1,
   "metadata": {
    "collapsed": true
   },
   "outputs": [
    {
     "name": "stderr",
     "output_type": "stream",
     "text": [
      "/home/menjivar/anaconda3/envs/miccai23/lib/python3.9/site-packages/tqdm/auto.py:22: TqdmWarning: IProgress not found. Please update jupyter and ipywidgets. See https://ipywidgets.readthedocs.io/en/stable/user_install.html\n",
      "  from .autonotebook import tqdm as notebook_tqdm\n",
      "<frozen importlib._bootstrap>:228: RuntimeWarning: pyarrow._fs.FileInfo size changed, may indicate binary incompatibility. Expected 64 from C header, got 88 from PyObject\n",
      "<frozen importlib._bootstrap>:228: RuntimeWarning: pyarrow._fs.FileSelector size changed, may indicate binary incompatibility. Expected 48 from C header, got 72 from PyObject\n"
     ]
    }
   ],
   "source": [
    "import plotly.express as px\n",
    "import pandas as pd\n",
    "\n",
    "from src import settings\n",
    "from src.visualization.plot import line\n",
    "from src.data.make_knn_dataset import get_organ_labels"
   ]
  },
  {
   "cell_type": "markdown",
   "source": [
    "# plot organ spectra"
   ],
   "metadata": {
    "collapsed": false
   }
  },
  {
   "cell_type": "code",
   "execution_count": 2,
   "outputs": [],
   "source": [
    "spectra_file = settings.figures_dir / 'semantic_reflectance.csv'\n",
    "df = pd.read_csv(spectra_file)"
   ],
   "metadata": {
    "collapsed": false
   }
  },
  {
   "cell_type": "code",
   "execution_count": 17,
   "outputs": [],
   "source": [
    "def prepare_data(df: pd.DataFrame):\n",
    "    to_replace = {\n",
    "        'simulated_adapted': 'synthetic adapted',\n",
    "        'simulated_sampled': 'synthetic sampled',\n",
    "        'small_bowel': 'small bowel'\n",
    "    }\n",
    "    to_rename = {\n",
    "        'wavelength': 'wavelength [nm]',\n",
    "        'dataset': 'data'\n",
    "    }\n",
    "    new_df = df.replace(to_replace, inplace=False)\n",
    "    new_df.rename(to_rename, inplace=True, axis=1)\n",
    "    to_rename.update(to_replace)\n",
    "    return new_df, to_rename"
   ],
   "metadata": {
    "collapsed": false
   }
  },
  {
   "cell_type": "code",
   "execution_count": 30,
   "outputs": [],
   "source": [
    "organs = get_organ_labels()['organ_labels']\n",
    "organs = [' '.join(o.split('_')) for o in organs]\n",
    "df_prepared, mapper = prepare_data(df)\n",
    "fig, plot_data = line(\n",
    "    data_frame=df_prepared,\n",
    "    x=mapper.get(\"wavelength\"),\n",
    "    y=\"reflectance\",\n",
    "    facet_col=\"organ\",\n",
    "    color=mapper.get(\"dataset\"),\n",
    "    facet_col_wrap=5,\n",
    "    template=\"plotly_white\",\n",
    "    width=800,\n",
    "    height=400,\n",
    "    category_orders=dict(organ=organs),\n",
    "    facet_row_spacing=0.2\n",
    ")\n",
    "fig.update_layout(font=dict(size=12, family=\"Whitney Book\"))\n",
    "fig.update_xaxes(title_font=dict(size=12, family=\"Whitney Book\"))\n",
    "fig.update_yaxes(title_font=dict(size=12, family=\"Whitney Book\"))\n",
    "fig.for_each_annotation(lambda a: a.update(text=a.text.split(\"=\")[-1]))\n",
    "fig.write_image(settings.figures_dir / 'manuscript' / 'organ_reflectance.pdf')"
   ],
   "metadata": {
    "collapsed": false
   }
  },
  {
   "cell_type": "code",
   "execution_count": null,
   "outputs": [],
   "source": [],
   "metadata": {
    "collapsed": false
   }
  }
 ],
 "metadata": {
  "kernelspec": {
   "display_name": "Python 3",
   "language": "python",
   "name": "python3"
  },
  "language_info": {
   "codemirror_mode": {
    "name": "ipython",
    "version": 2
   },
   "file_extension": ".py",
   "mimetype": "text/x-python",
   "name": "python",
   "nbconvert_exporter": "python",
   "pygments_lexer": "ipython2",
   "version": "2.7.6"
  }
 },
 "nbformat": 4,
 "nbformat_minor": 0
}
