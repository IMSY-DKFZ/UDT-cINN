{
 "cells": [
  {
   "cell_type": "code",
   "execution_count": null,
   "metadata": {
    "collapsed": true,
    "pycharm": {
     "name": "#%%\n"
    }
   },
   "outputs": [],
   "source": [
    "import numpy as np\n",
    "import plotly.express as px\n",
    "import pandas as pd\n",
    "import joblib\n",
    "from pathlib import Path\n",
    "\n",
    "from src import settings\n",
    "from src.visualization.plot import line\n",
    "#from src.data.make_knn_dataset import get_organ_labels\n",
    "from src.visualization.templates import cmap_qualitative, cmap_quantitative\n",
    "from src.evaluation.si_classifier import get_label_mapping\n",
    "from src.utils.gather_pa_spectra_from_dataset import calculate_mean_spectrum\n",
    "from src.utils.susi import ExperimentResults"
   ]
  },
  {
   "cell_type": "markdown",
   "source": [
    "# plot organ spectra"
   ],
   "metadata": {
    "collapsed": false,
    "pycharm": {
     "name": "#%% md\n"
    }
   }
  },
  {
   "cell_type": "code",
   "execution_count": null,
   "outputs": [],
   "source": [
    "spectra_file = settings.figures_dir / 'semantic_reflectance.csv'\n",
    "df = pd.read_csv(spectra_file)\n",
    "df = df[df.organ != 'gallbladder']"
   ],
   "metadata": {
    "collapsed": false,
    "pycharm": {
     "name": "#%%\n"
    }
   }
  },
  {
   "cell_type": "code",
   "execution_count": null,
   "outputs": [],
   "source": [
    "def prepare_data(df: pd.DataFrame):\n",
    "    to_replace = {\n",
    "        'simulated_sampled': 'simulated',\n",
    "        'small_bowel': 'small bowel',\n",
    "        'inn': 'cINN',\n",
    "        'unit': 'UNIT'\n",
    "    }\n",
    "    to_rename = {\n",
    "        'wavelength': 'wavelength [nm]',\n",
    "        'reflectance': 'reflectance [a.u.]',\n",
    "        'dataset': 'data'\n",
    "    }\n",
    "    new_df = df.replace(to_replace, inplace=False)\n",
    "    new_df.rename(to_rename, inplace=True, axis=1)\n",
    "    to_rename.update(to_replace)\n",
    "    return new_df, to_rename"
   ],
   "metadata": {
    "collapsed": false,
    "pycharm": {
     "name": "#%%\n"
    }
   }
  },
  {
   "cell_type": "code",
   "execution_count": null,
   "outputs": [],
   "source": [
    "organs = get_organ_labels()['organ_labels']\n",
    "organs = [o for o in organs if o != 'gallbladder']\n",
    "organs = [' '.join(o.split('_')) for o in organs]\n",
    "df_prepared, mapper = prepare_data(df)\n",
    "fig, plot_data = line(\n",
    "    data_frame=df_prepared,\n",
    "    x=mapper.get(\"wavelength\"),\n",
    "    y=mapper.get('reflectance'),\n",
    "    facet_col=\"organ\",\n",
    "    color=mapper.get(\"dataset\"),\n",
    "    facet_col_wrap=5,\n",
    "    template=\"plotly_white\",\n",
    "    width=800,\n",
    "    height=400,\n",
    "    category_orders=dict(organ=organs, data=['real', 'simulated', 'cINN', 'UNIT']),\n",
    "    facet_row_spacing=0.2,\n",
    "    facet_col_spacing=0.05,\n",
    "    color_discrete_map=cmap_qualitative,\n",
    "    range_x=(900, 1000),\n",
    "    range_y=(0.005, 0.015)\n",
    ")\n",
    "\n",
    "fig.update_layout(font=dict(size=12, family=\"Whitney Book\"))\n",
    "fig.update_xaxes(title_font=dict(size=12, family=\"Whitney Book\"))\n",
    "fig.update_yaxes(title_font=dict(size=12, family=\"Whitney Book\"))\n",
    "# fig.for_each_yaxis(lambda yaxis: yaxis.update(showticklabels=True))\n",
    "fig.for_each_annotation(lambda a: a.update(text=a.text.split(\"=\")[-1]))\n",
    "fig.write_image(settings.figures_dir / 'manuscript' / 'organ_reflectance.pdf')"
   ],
   "metadata": {
    "collapsed": false,
    "pycharm": {
     "name": "#%%\n"
    }
   }
  },
  {
   "cell_type": "markdown",
   "source": [
    "# plot confusion matrices"
   ],
   "metadata": {
    "collapsed": false,
    "pycharm": {
     "name": "#%% md\n"
    }
   }
  },
  {
   "cell_type": "code",
   "execution_count": null,
   "outputs": [],
   "source": [
    "stages = [\n",
    "    'real',\n",
    "    'sampled',\n",
    "    'adapted_inn',\n",
    "    'unit'\n",
    "]\n",
    "stage_mapper = dict(real='real', sampled='simulated', adapted_inn='cINN', unit='UNIT')\n",
    "mapping = get_label_mapping()\n",
    "for stage in stages:\n",
    "    file = settings.results_dir / 'rf' / f\"rf_classifier_matrix_{stage}.npz\"\n",
    "    data = np.load(file)\n",
    "    matrix = data['matrix']\n",
    "    labels = data['labels']\n",
    "    names = [mapping.get(str(l)) for l in labels]\n",
    "    fig = px.imshow(matrix,\n",
    "                    text_auto='.2f',\n",
    "                    color_continuous_scale=cmap_quantitative.get(stage_mapper.get(stage)),\n",
    "                    zmin=0,\n",
    "                    zmax=1,\n",
    "                    template='plotly_white'\n",
    "                    )\n",
    "    fig.update_layout(font=dict(size=16))\n",
    "    axis_ticks = dict(\n",
    "            tickmode='array',\n",
    "            tickvals=np.arange(0, len(names)),\n",
    "            ticktext=names\n",
    "        )\n",
    "    fig.update_layout(\n",
    "        xaxis=axis_ticks,\n",
    "        yaxis=axis_ticks,\n",
    "        coloraxis_colorbar=dict(\n",
    "            title=\"probability\",\n",
    "            x=0.85,\n",
    "            ticks=\"outside\",\n",
    "            ticksuffix=\"\",\n",
    "        )\n",
    "    )\n",
    "    fig.write_image(settings.figures_dir / 'manuscript' / f'rf_confusion_matrix_{stage}.pdf')"
   ],
   "metadata": {
    "collapsed": false,
    "pycharm": {
     "name": "#%%\n"
    }
   }
  },
  {
   "cell_type": "code",
   "execution_count": null,
   "outputs": [],
   "source": [],
   "metadata": {
    "collapsed": false,
    "pycharm": {
     "name": "#%%\n"
    }
   }
  },
  {
   "cell_type": "markdown",
   "source": [
    "# plot photoacoustic images"
   ],
   "metadata": {
    "collapsed": false,
    "pycharm": {
     "name": "#%% md\n"
    }
   }
  },
  {
   "cell_type": "code",
   "execution_count": null,
   "outputs": [],
   "source": [
    "file = \"/media/E130-Projekte/Photoacoustics/Projects/MICCAI_23/segmentation_task/real_data/validation/Study_70_Scan_13.npz\"\n",
    "data = np.load(file).get('reconstruction')"
   ],
   "metadata": {
    "collapsed": false,
    "pycharm": {
     "name": "#%%\n"
    }
   }
  },
  {
   "cell_type": "code",
   "execution_count": null,
   "outputs": [],
   "source": [
    "fig = px.imshow(data[0, ...],\n",
    "                template='plotly_white',\n",
    "                color_continuous_scale=\"Electric\")\n",
    "fig.write_image(settings.figures_dir / 'manuscript' / 'reconstruction.pdf')"
   ],
   "metadata": {
    "collapsed": false,
    "pycharm": {
     "name": "#%%\n"
    }
   }
  },
  {
   "cell_type": "markdown",
   "source": [
    "# plot photoacoustic spectra"
   ],
   "metadata": {
    "collapsed": false,
    "pycharm": {
     "name": "#%% md\n"
    }
   }
  },
  {
   "cell_type": "code",
   "execution_count": null,
   "outputs": [],
   "source": [
    "sources = [\n",
    "    ('simulated', '/media/menjivar/Extreme SSD/MICCAI_23/results/photoacoustics/good_simulations/test'),\n",
    "    ('real', '/media/menjivar/Extreme SSD/MICCAI_23/results/photoacoustics/real_images/validation'),\n",
    "    ('inn', '/media/menjivar/Extreme SSD/MICCAI_23/results/photoacoustics/2023_01_23_22_47_44/testing/training'),\n",
    "    ('unit', '/media/menjivar/Extreme SSD/MICCAI_23/results/photoacoustics/2023_02_18_15_05_06/testing/training'),\n",
    "]"
   ],
   "metadata": {
    "collapsed": false,
    "pycharm": {
     "name": "#%%\n"
    }
   }
  },
  {
   "cell_type": "code",
   "execution_count": null,
   "outputs": [],
   "source": [
    "data= {}\n",
    "results = ExperimentResults()\n",
    "for name, path in sources:\n",
    "    files = Path(path).glob('*.npz')\n",
    "    data = calculate_mean_spectrum(files)\n",
    "    tissue_data = [('artery', data.get('artery_spectra_all')), ('vein', data.get('vein_spectra_all'))]\n",
    "    for tissue, x in tissue_data:\n",
    "        results.append(name=\"absorption\", value=x.flatten())\n",
    "        results.append(name=\"wavelength\", value=np.repeat(settings.pai_wavelengths, x.shape[0]))\n",
    "        results.append(name=\"data\", value=[name for _ in x.flatten()])\n",
    "        results.append(name=\"tissue\", value=[tissue for _ in x.flatten()])"
   ],
   "metadata": {
    "collapsed": false,
    "pycharm": {
     "name": "#%%\n"
    }
   }
  },
  {
   "cell_type": "code",
   "execution_count": null,
   "outputs": [],
   "source": [
    "df = results.get_df()\n",
    "df, mapper = prepare_data(df)"
   ],
   "metadata": {
    "collapsed": false,
    "pycharm": {
     "name": "#%%\n"
    }
   }
  },
  {
   "cell_type": "code",
   "execution_count": null,
   "outputs": [],
   "source": [
    "fig, _ = line(data_frame=df,\n",
    "              x=mapper.get(\"wavelength\"),\n",
    "              y=\"absorption\",\n",
    "              facet_col=\"tissue\",\n",
    "              color=\"data\",\n",
    "              template=\"plotly_white\",\n",
    "              facet_col_spacing=0.05,\n",
    "              color_discrete_map=cmap_qualitative,\n",
    "           )\n",
    "fig.update_layout(font=dict(size=12, family=\"Whitney Book\"))\n",
    "fig.update_xaxes(title_font=dict(size=12, family=\"Whitney Book\"))\n",
    "fig.update_yaxes(title_font=dict(size=12, family=\"Whitney Book\"))\n",
    "fig.for_each_annotation(lambda a: a.update(text=a.text.split(\"=\")[-1]))\n",
    "fig.write_image(settings.figures_dir / 'manuscript' / 'tissue_absorption.pdf')"
   ],
   "metadata": {
    "collapsed": false,
    "pycharm": {
     "name": "#%%\n"
    }
   }
  },
  {
   "cell_type": "markdown",
   "source": [
    "# plot PAI PCA"
   ],
   "metadata": {
    "collapsed": false,
    "pycharm": {
     "name": "#%% md\n"
    }
   }
  },
  {
   "cell_type": "code",
   "execution_count": null,
   "outputs": [],
   "source": [
    "df = pd.read_csv(settings.results_dir / 'pca' / 'pai_pca.csv')\n",
    "df = df[df['data'] != 'unit']\n",
    "df, mapper = prepare_data(df)"
   ],
   "metadata": {
    "collapsed": false,
    "pycharm": {
     "name": "#%%\n"
    }
   }
  },
  {
   "cell_type": "code",
   "execution_count": null,
   "outputs": [],
   "source": [
    "def trace_selector_2d_contour(tr):\n",
    "    return hasattr(tr, 'ncontours')"
   ],
   "metadata": {
    "collapsed": false,
    "pycharm": {
     "name": "#%%\n"
    }
   }
  },
  {
   "cell_type": "code",
   "execution_count": null,
   "outputs": [],
   "source": [
    "for tissue in df.tissue.unique():\n",
    "    model_file = settings.results_dir / 'pca' / f'pai_pca_{tissue}.joblib'\n",
    "    model = joblib.load(model_file)\n",
    "    tmp = df[df['tissue'] == tissue].copy()\n",
    "    tmp = tmp.rename({'pc_1': f\"PC 1 [{round(model.explained_variance_ratio_[0]*100)}%]\",\n",
    "                       'pc_2': f\"PC 2 [{round(model.explained_variance_ratio_[1]*100)}%]\"},\n",
    "                     axis=1)\n",
    "    fig = px.density_contour(data_frame=tmp,\n",
    "                             x=f\"PC 1 [{round(model.explained_variance_ratio_[0]*100)}%]\",\n",
    "                             y=f\"PC 2 [{round(model.explained_variance_ratio_[1]*100)}%]\",\n",
    "                             color=\"data\",\n",
    "                             histfunc=\"count\",\n",
    "                             histnorm=\"percent\",\n",
    "                             marginal_x='histogram',\n",
    "                             marginal_y='histogram',\n",
    "                             template=\"plotly_white\",\n",
    "                             color_discrete_map=cmap_qualitative,\n",
    "                             range_x=(-0.3, 0.3),\n",
    "                             range_y=(-0.1, 0.1),\n",
    "                             )\n",
    "    fig.update_traces(ncontours=5,\n",
    "                      line=dict(width=2),\n",
    "                      selector=trace_selector_2d_contour,\n",
    "                      contours=dict(coloring=\"fill\"),\n",
    "                      opacity=0.4,\n",
    "                      autocolorscale=False,\n",
    "                      colorbar=None)\n",
    "    fig.update_layout(font=dict(size=12, family=\"Whitney Book\"))\n",
    "    fig.update_xaxes(title_font=dict(size=12, family=\"Whitney Book\"))\n",
    "    fig.update_yaxes(title_font=dict(size=12, family=\"Whitney Book\"))\n",
    "    fig.for_each_annotation(lambda a: a.update(text=a.text.split(\"=\")[-1]))\n",
    "    fig.write_image(settings.figures_dir / 'manuscript' / f'pai_pca_{tissue}.pdf')"
   ],
   "metadata": {
    "collapsed": false,
    "pycharm": {
     "name": "#%%\n"
    }
   }
  },
  {
   "cell_type": "code",
   "execution_count": null,
   "outputs": [],
   "source": [],
   "metadata": {
    "collapsed": false,
    "pycharm": {
     "name": "#%%\n"
    }
   }
  }
 ],
 "metadata": {
  "kernelspec": {
   "display_name": "Python 3",
   "language": "python",
   "name": "python3"
  },
  "language_info": {
   "codemirror_mode": {
    "name": "ipython",
    "version": 2
   },
   "file_extension": ".py",
   "mimetype": "text/x-python",
   "name": "python",
   "nbconvert_exporter": "python",
   "pygments_lexer": "ipython2",
   "version": "2.7.6"
  }
 },
 "nbformat": 4,
 "nbformat_minor": 0
}