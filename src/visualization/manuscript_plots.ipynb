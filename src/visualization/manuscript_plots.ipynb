{
 "cells": [
  {
   "cell_type": "code",
   "execution_count": 1,
   "metadata": {
    "execution": {
     "iopub.execute_input": "2023-08-07T09:09:33.332091Z",
     "iopub.status.busy": "2023-08-07T09:09:33.331562Z",
     "iopub.status.idle": "2023-08-07T09:09:35.008820Z",
     "shell.execute_reply": "2023-08-07T09:09:35.008330Z"
    }
   },
   "outputs": [],
   "source": [
    "import numpy as np\n",
    "import plotly.express as px\n",
    "from plotly.subplots import make_subplots\n",
    "import plotly.graph_objects as go\n",
    "\n",
    "import pandas as pd\n",
    "import joblib\n",
    "import seaborn as sns\n",
    "import matplotlib.pyplot as plt\n",
    "\n",
    "from src import settings\n",
    "from src.visualization.plot import line\n",
    "from src.data.utils import get_organ_labels\n",
    "from src.visualization.templates import cmap_qualitative, cmap_quantitative_list\n",
    "from src.data.utils import get_label_mapping, get_pa_label_mapping\n",
    "from src.utils.susi import ExperimentResults"
   ]
  },
  {
   "cell_type": "code",
   "execution_count": 2,
   "metadata": {
    "execution": {
     "iopub.execute_input": "2023-08-07T09:09:35.011791Z",
     "iopub.status.busy": "2023-08-07T09:09:35.011387Z",
     "iopub.status.idle": "2023-08-07T09:09:35.020452Z",
     "shell.execute_reply": "2023-08-07T09:09:35.020092Z"
    }
   },
   "outputs": [],
   "source": [
    "organs_to_plot = ['stomach', 'small_bowel', 'liver', 'spleen', 'fat']\n",
    "organs_to_plot = ['colon', 'stomach', 'omentum', 'spleen', 'fat']\n",
    "font_type = \"NewComputerModern10\"\n",
    "def prepare_data(df: pd.DataFrame):\n",
    "    to_replace = {\n",
    "        'simulated_sampled': 'simulated',\n",
    "        'small_bowel': 'small bowel',\n",
    "        'inn': 'cINN',\n",
    "        'unit': 'UNIT',\n",
    "        'real - inn': 'real - cINN',\n",
    "        'real - unit': 'real - UNIT',\n",
    "        'per_class_f1': 'F1',\n",
    "        'per_class_auroc': 'AUC',\n",
    "        'per_class_accuracy': 'accuracy',\n",
    "        'UNIT_y': 'UNIT',\n",
    "        'cINN_d': 'cINN<sub>D</sub>',\n",
    "        'cINN_dy': 'cINN'\n",
    "    }\n",
    "    to_rename = {\n",
    "        'wavelength': 'wavelength [nm]',\n",
    "        'reflectance': 'reflectance [a.u.]',\n",
    "        'dataset': 'data',\n",
    "        'source': 'data',\n",
    "        'pai_signal': 'PA signal [a.u.]',\n",
    "        'waic': 'WAIC [a.u.]',\n",
    "        'difference': 'difference [a.u.]',\n",
    "        'metric diff': 'metric relative to simulations'\n",
    "    }\n",
    "    new_df = df.replace(to_replace, inplace=False)\n",
    "    new_df.rename(to_rename, inplace=True, axis=1)\n",
    "    to_rename.update(to_replace)\n",
    "    return new_df, to_rename\n",
    "\n",
    "def compute_metric_diff(df: pd.DataFrame) -> pd.DataFrame:\n",
    "    base = df[df.data == 'simulated']\n",
    "    metric_diff = ExperimentResults()\n",
    "    for source in df.data.unique():\n",
    "        tmp = df[df.data == source]\n",
    "        for metric in tmp.metric.unique():\n",
    "            clf_metric = tmp[tmp.metric == metric]['metric value'].values[0]\n",
    "            base_metric = base[base.metric == metric]['metric value'].values[0]\n",
    "            diff = clf_metric - base_metric\n",
    "            metric_diff.append(name=\"metric diff\", value=diff)\n",
    "            metric_diff.append(name=\"metric\", value=metric)\n",
    "            metric_diff.append(name=\"data\", value=source)\n",
    "    metric_df = metric_diff.get_df()\n",
    "    real_baseline = metric_df[metric_df.data == 'real']\n",
    "    metric_df = metric_df[\n",
    "        (~metric_df.data.isin(['simulated', 'real']))\n",
    "        # & (~metric_df.metric.isin(['F1-Score']))\n",
    "        & (~metric_df.data.isin(['cINN_d', 'UNIT']))\n",
    "    ]\n",
    "    metric_df, mapper = prepare_data(metric_df)\n",
    "    return metric_df, mapper, real_baseline"
   ]
  },
  {
   "cell_type": "markdown",
   "metadata": {},
   "source": [
    "# plot HSI classification metrics"
   ]
  },
  {
   "cell_type": "code",
   "execution_count": 3,
   "metadata": {
    "execution": {
     "iopub.execute_input": "2023-08-07T09:09:35.022419Z",
     "iopub.status.busy": "2023-08-07T09:09:35.022309Z",
     "iopub.status.idle": "2023-08-07T09:09:35.025106Z",
     "shell.execute_reply": "2023-08-07T09:09:35.024704Z"
    }
   },
   "outputs": [],
   "source": [
    "# metrics_file = settings.results_dir / 'rf' / 'rf_classifier_metrics.csv'\n",
    "# df = pd.read_csv(metrics_file, index_col=None, header=[0])\n",
    "# df = df.melt(id_vars=[\"data\"], value_name=\"metric value\", var_name=\"metric\")\n",
    "# metric_df, mapper, real_base = compute_metric_diff(df=df)\n",
    "# fig = px.bar(\n",
    "#     data_frame=metric_df,\n",
    "#     x=\"data\",\n",
    "#     y=mapper.get('metric diff'),\n",
    "#     color=\"data\",\n",
    "#     facet_col=\"metric\",\n",
    "#     color_discrete_map=cmap_qualitative,\n",
    "#     template=\"plotly_white\",\n",
    "# )\n",
    "# fig.add_shape(\n",
    "#     type=\"line\",\n",
    "#     x0=-0.4,\n",
    "#     x1=0.4,\n",
    "#     y0=0,\n",
    "#     y1=0,\n",
    "#     line=dict(\n",
    "#         color=cmap_qualitative['UNIT'],\n",
    "#         width=6,\n",
    "#     )\n",
    "# )\n",
    "# fig.add_hline(\n",
    "#     y=0,\n",
    "#     line_color=cmap_qualitative.get('simulated'),\n",
    "#     annotation_font={'color': cmap_qualitative.get('simulated')},\n",
    "#     line_dash=\"dash\",\n",
    "#     line_width=4,\n",
    "#     annotation_text=\"\",\n",
    "#     annotation_position=\"bottom right\",\n",
    "#     annotation_font_size=14,\n",
    "#     annotation_font_color=cmap_qualitative.get('simulated'),\n",
    "#     row=\"all\",\n",
    "#     col=\"all\"\n",
    "#     )\n",
    "# font_size = 28\n",
    "# fig.update_xaxes(title_font=dict(size=font_size, family=font_type),\n",
    "#                  tickangle=270,\n",
    "#                  showticklabels=False,\n",
    "#                  title=\"\"\n",
    "#                  )\n",
    "# fig.update_yaxes(title_font=dict(size=font_size, family=font_type))\n",
    "# # fig.for_each_yaxis(lambda yaxis: yaxis.update(showticklabels=True))\n",
    "# fig.for_each_annotation(lambda a: a.update(text=a.text.split(\"=\")[-1]))\n",
    "# fig.update_layout(font=dict(size=font_size, family=font_type, color=\"#000000\"),\n",
    "#                   legend=dict(orientation=\"h\", xanchor=\"center\", x=0.5, y=0., title=\"\"),\n",
    "#                   margin=dict(l=0, r=0, t=30, b=0))\n",
    "# fig.write_image(settings.figures_dir / 'manuscript' / 'semantic_metrics.pdf')\n",
    "# fig.write_image(settings.figures_dir / 'manuscript' / 'semantic_metrics.png', scale=2)\n",
    "# fig.write_image(settings.figures_dir / 'manuscript' / 'semantic_metrics.svg')\n",
    "#"
   ]
  },
  {
   "cell_type": "code",
   "execution_count": 4,
   "metadata": {
    "execution": {
     "iopub.execute_input": "2023-08-07T09:09:35.026978Z",
     "iopub.status.busy": "2023-08-07T09:09:35.026735Z",
     "iopub.status.idle": "2023-08-07T09:09:35.030108Z",
     "shell.execute_reply": "2023-08-07T09:09:35.029617Z"
    }
   },
   "outputs": [],
   "source": [
    "# metrics_file = settings.results_dir / 'rf' / 'rf_classifier_metrics.csv'\n",
    "# metrics_df = pd.read_csv(metrics_file, index_col=None, header=[0])\n",
    "# metrics_df, _ = prepare_data(metrics_df)\n",
    "# organs = metrics_df.organ.unique()\n",
    "# metric = ('AUC', 'per_class_auroc')\n",
    "# results = ExperimentResults()\n",
    "# metric_diff_value = []\n",
    "# for organ in organs:\n",
    "#     tmp = metrics_df[(metrics_df.organ == organ)]\n",
    "#     base_value = tmp[tmp.data == 'simulated'][metric[1]].values[0]\n",
    "#     values = []\n",
    "#     for j, source in enumerate(['cINN', 'UNIT']):\n",
    "#         metric_value = tmp[tmp['data'] == source][metric[1]].values[0]\n",
    "#         diff = metric_value - base_value\n",
    "#         values.append(float(diff))\n",
    "#         results.append(name=\"organ\", value=organ)\n",
    "#         results.append(name=\"data\", value=source)\n",
    "#         results.append(name=metric[0], value=diff)\n",
    "#     metric_diff_value.append(values)\n",
    "# df = results.get_df()\n",
    "# df = df[~df['data'].isin(['simulated', 'real'])]\n",
    "# df, _ = prepare_data(df)\n",
    "# fig = px.bar(\n",
    "#     data_frame=df,\n",
    "#     x=\"data\",\n",
    "#     y=metric[0],\n",
    "#     color=\"data\",\n",
    "#     template=\"plotly_white\",\n",
    "#     facet_col=\"organ\",\n",
    "#     facet_col_wrap=5,\n",
    "#     color_discrete_map=cmap_qualitative,\n",
    "#     facet_col_spacing=0.1,\n",
    "#     category_orders={'organ': list(organs)}\n",
    "# )\n",
    "# fig.for_each_yaxis(lambda yaxis: yaxis.update(showticklabels=True))\n",
    "# fig.update_layout(template=\"plotly_white\",\n",
    "#                   # width=1000,\n",
    "#                   # height=400,\n",
    "#                   margin=dict(l=20, r=20, t=20, b=20)\n",
    "#                   )\n",
    "# for i, values in enumerate(metric_diff_value):\n",
    "#     if i>0:\n",
    "#         col = (i%5) + 1\n",
    "#     else:\n",
    "#         col = 1\n",
    "#     if i < 5:\n",
    "#         row = 2\n",
    "#     else:\n",
    "#         row = 1\n",
    "#\n",
    "#     y_range = [-max(np.abs(values)), max(np.abs(values))]\n",
    "#     fig.update_yaxes(range=y_range, row=row, col=col)\n",
    "# fig.update_traces(width=0.5)\n",
    "# fig.update_layout(font=dict(size=12, family=font_type))\n",
    "# fig.update_xaxes(title_font=dict(size=12, family=font_type), tickangle=270)\n",
    "# fig.update_yaxes(title_font=dict(size=12, family=font_type), matches=None)\n",
    "# fig.for_each_annotation(lambda a: a.update(text=a.text.split(\"=\")[-1]))\n",
    "# fig.write_image(settings.figures_dir / 'manuscript' / f'semantic_{metric[0]}.png', scale=3)\n",
    "# fig.write_image(settings.figures_dir / 'manuscript' / f'semantic_{metric[0]}.pdf')\n",
    "# fig.write_image(settings.figures_dir / 'manuscript' / f'semantic_{metric[0]}.svg')\n",
    "# fig.write_html(settings.figures_dir / 'manuscript' / f'semantic_{metric[0]}.html')"
   ]
  },
  {
   "cell_type": "markdown",
   "metadata": {},
   "source": [
    "# plot HSI spectra"
   ]
  },
  {
   "cell_type": "code",
   "execution_count": 5,
   "metadata": {
    "execution": {
     "iopub.execute_input": "2023-08-07T09:09:35.032129Z",
     "iopub.status.busy": "2023-08-07T09:09:35.031741Z",
     "iopub.status.idle": "2023-08-07T09:09:38.250801Z",
     "shell.execute_reply": "2023-08-07T09:09:38.250271Z"
    }
   },
   "outputs": [
    {
     "name": "stdout",
     "output_type": "stream",
     "text": [
      "/home/kris/Work/Data/domain_adaptation_simulations/HSI_Data/organ_data/figures/manuscript/semantic_reflectance\n"
     ]
    }
   ],
   "source": [
    "spectra_file = settings.figures_dir / 'semantic_reflectance.csv'\n",
    "df = pd.read_csv(spectra_file)\n",
    "df = df[df.organ != 'gallbladder']\n",
    "organs = [' '.join(o.split('_')) for o in organs_to_plot]\n",
    "df = df[df['organ'].isin(organs_to_plot)]\n",
    "df_prepared, mapper = prepare_data(df)\n",
    "fig, plot_data = line(\n",
    "    data_frame=df_prepared,\n",
    "    x=mapper.get(\"wavelength\"),\n",
    "    y=mapper.get('reflectance'),\n",
    "    facet_col=\"organ\",\n",
    "    color=mapper.get(\"dataset\"),\n",
    "    facet_col_wrap=5,\n",
    "    template=\"plotly_white\",\n",
    "    width=800,\n",
    "    height=300,\n",
    "    category_orders=dict(organ=organs, data=['real', 'simulated', 'UNIT', 'cINN']),\n",
    "    facet_row_spacing=0.2,\n",
    "    facet_col_spacing=0.05,\n",
    "    color_discrete_map=cmap_qualitative,\n",
    "    # range_x=(900, 1000),\n",
    "    # range_y=(0.005, 0.015)\n",
    "    range_y=(0.0, 0.025)\n",
    ")\n",
    "# fig.add_vrect(x0=900,\n",
    "#               x1=1000,\n",
    "#               row=\"all\",\n",
    "#               col=\"all\",\n",
    "#               fillcolor=\"gray\",\n",
    "#               opacity=0.25,\n",
    "#               line_width=0\n",
    "#               )\n",
    "font_size = 22\n",
    "fig.update_xaxes(title_font=dict(size=font_size, family=font_type), tickangle=270,\n",
    "                 # showgrid=False,\n",
    "                 )\n",
    "fig.update_yaxes(title_font=dict(size=font_size, family=font_type),\n",
    "                 # showgrid=False,\n",
    "                 )\n",
    "fig.update_annotations(font=dict(size=font_size, family=font_type))\n",
    "# fig.for_each_yaxis(lambda yaxis: yaxis.update(showticklabels=True))\n",
    "fig.for_each_annotation(lambda a: a.update(text=a.text.split(\"=\")[-1]))\n",
    "fig.update_layout(font=dict(size=font_size, family=font_type, color='#000000'),\n",
    "                  margin=dict(l=0, r=0, t=0, b=10),\n",
    "                  legend=dict(orientation=\"h\", xanchor=\"center\", x=0.5, y=1.3, title=\"\")\n",
    "                  )\n",
    "print(settings.figures_dir / 'manuscript' / 'semantic_reflectance')\n",
    "fig.write_image(settings.figures_dir / 'manuscript' / 'semantic_reflectance.pdf')\n",
    "fig.write_image(settings.figures_dir / 'manuscript' / 'semantic_reflectance.svg')\n",
    "fig.write_image(settings.figures_dir / 'manuscript' / 'semantic_reflectance.png', scale=2)\n",
    "fig.write_html(settings.figures_dir / 'manuscript' / 'semantic_reflectance.html')"
   ]
  },
  {
   "cell_type": "markdown",
   "metadata": {},
   "source": [
    "# plot HSI spectral differences"
   ]
  },
  {
   "cell_type": "code",
   "execution_count": 6,
   "metadata": {
    "execution": {
     "iopub.execute_input": "2023-08-07T09:09:38.253452Z",
     "iopub.status.busy": "2023-08-07T09:09:38.253329Z",
     "iopub.status.idle": "2023-08-07T09:09:39.167526Z",
     "shell.execute_reply": "2023-08-07T09:09:39.166931Z"
    }
   },
   "outputs": [],
   "source": [
    "df = pd.read_csv(settings.figures_dir / 'semantic_diff.csv')\n",
    "organs = get_organ_labels()['organ_labels']\n",
    "organs = [o for o in organs if o != 'gallbladder' and o in organs_to_plot]\n",
    "df = df[df['organ'].isin(organs)]\n",
    "organs = [' '.join(o.split('_')) for o in organs]\n",
    "df_prepared, mapper = prepare_data(df)\n",
    "fig = px.violin(data_frame=df_prepared,\n",
    "             x=\"data\",\n",
    "             y=mapper.get('difference'),\n",
    "             color=\"data\",\n",
    "             facet_col=\"organ\",\n",
    "             facet_col_wrap=5,\n",
    "             color_discrete_map=cmap_qualitative,\n",
    "             template=\"plotly_white\",\n",
    "             category_orders=dict(organ=organs_to_plot, data=['real - simulated', 'real - UNIT', 'real - cINN']),\n",
    "             facet_row_spacing=0.2,\n",
    "             facet_col_spacing=0.05,\n",
    "             width=800,\n",
    "             height=400,\n",
    "                points=\"all\"\n",
    "             )\n",
    "fig.update_traces(scalemode='width', meanline_visible=True, line=dict(width=3))\n",
    "TRACE_INDEX = []\n",
    "def split_scale_group(tr):\n",
    "    if TRACE_INDEX:\n",
    "        TRACE_INDEX.append(TRACE_INDEX[-1] + 1)\n",
    "    else:\n",
    "        TRACE_INDEX.append(0)\n",
    "    tr.scalegroup = TRACE_INDEX[-1]\n",
    "    return tr\n",
    "fig.for_each_trace(split_scale_group)\n",
    "font_size=18\n",
    "fig.update_layout(font=dict(size=font_size, family=font_type, color=\"#000000\"),\n",
    "                  legend=dict(orientation=\"h\", xanchor=\"center\", x=0.5, y=0., title=\"\"),\n",
    "                  margin=dict(l=0, r=0, t=30, b=0)\n",
    "                  )\n",
    "fig.update_xaxes(title_font=dict(size=font_size, family=font_type),\n",
    "                 showticklabels=False, title=\"\")\n",
    "fig.update_yaxes(title_font=dict(size=font_size, family=font_type),\n",
    "                 range=(0, 0.005))\n",
    "fig.for_each_annotation(lambda a: a.update(text=a.text.split(\"=\")[-1]))\n",
    "fig.write_image(settings.figures_dir / 'manuscript' / 'semantic_diff.pdf')\n",
    "fig.write_image(settings.figures_dir / 'manuscript' / 'semantic_diff.svg')\n",
    "fig.write_image(settings.figures_dir / 'manuscript' / 'semantic_diff.png', scale=2)"
   ]
  },
  {
   "cell_type": "markdown",
   "metadata": {},
   "source": [
    "# plot HSI confusion matrices"
   ]
  },
  {
   "cell_type": "code",
   "execution_count": 7,
   "metadata": {
    "execution": {
     "iopub.execute_input": "2023-08-07T09:09:39.170406Z",
     "iopub.status.busy": "2023-08-07T09:09:39.170131Z",
     "iopub.status.idle": "2023-08-07T09:09:40.672212Z",
     "shell.execute_reply": "2023-08-07T09:09:40.671694Z"
    }
   },
   "outputs": [],
   "source": [
    "stages = [\n",
    "    'real',\n",
    "    'simulated',\n",
    "    'cINN',\n",
    "    'UNIT'\n",
    "]\n",
    "stage_mapper = dict(real='real', sampled='simulated', adapted_inn='cINN', unit='UNIT')\n",
    "mapping = get_label_mapping()\n",
    "for stage in stages:\n",
    "    file = settings.results_dir / 'rf' / f\"rf_classifier_matrix_{stage}.npz\"\n",
    "    data = np.load(file)\n",
    "    matrix = data['matrix']\n",
    "    labels = data['labels']\n",
    "    names = [mapping.get(str(l)) for l in labels]\n",
    "    names = [' '.join(n.split('_')) for n in names]\n",
    "    fig = px.imshow(matrix,\n",
    "                    text_auto='.2f',\n",
    "                    color_continuous_scale=cmap_quantitative_list.get(stage),\n",
    "                    zmin=0,\n",
    "                    zmax=1,\n",
    "                    template='plotly_white',\n",
    "                    labels={'small_bowel': 'small bowel'}\n",
    "                    )\n",
    "    axis_ticks = dict(\n",
    "            tickmode='array',\n",
    "            tickvals=np.arange(0, len(names)),\n",
    "            ticktext=names\n",
    "        )\n",
    "    fig.update_layout(\n",
    "        xaxis=axis_ticks,\n",
    "        yaxis=axis_ticks,\n",
    "        coloraxis_colorbar=dict(\n",
    "            title=\"probability\",\n",
    "            x=0.85,\n",
    "            ticks=\"outside\",\n",
    "            ticksuffix=\"\",\n",
    "        )\n",
    "    )\n",
    "    font_size = 18\n",
    "    fig.update_xaxes(title=\"predicted class\", title_font=dict(size=font_size, family=font_type))\n",
    "    fig.update_yaxes(title=\"true class\", title_font=dict(size=font_size, family=font_type))\n",
    "    fig.update_layout(font=dict(size=font_size, family=font_type, color='#000000'),\n",
    "                      margin=dict(l=10, r=0, t=10, b=10))\n",
    "    fig.write_image(settings.figures_dir / 'manuscript' / f'semantic_rf_confusion_matrix_{stage}.pdf')\n",
    "    fig.write_image(settings.figures_dir / 'manuscript' / f'semantic_rf_confusion_matrix_{stage}.svg')\n",
    "    fig.write_image(settings.figures_dir / 'manuscript' / f'semantic_rf_confusion_matrix_{stage}.png', scale=2)"
   ]
  },
  {
   "cell_type": "markdown",
   "metadata": {},
   "source": [
    "# plot HSI PCA"
   ]
  },
  {
   "cell_type": "code",
   "execution_count": 8,
   "metadata": {
    "execution": {
     "iopub.execute_input": "2023-08-07T09:09:40.674987Z",
     "iopub.status.busy": "2023-08-07T09:09:40.674806Z",
     "iopub.status.idle": "2023-08-07T09:09:48.180504Z",
     "shell.execute_reply": "2023-08-07T09:09:48.180090Z"
    }
   },
   "outputs": [
    {
     "data": {
      "text/plain": [
       "<Figure size 600x600 with 0 Axes>"
      ]
     },
     "metadata": {},
     "output_type": "display_data"
    },
    {
     "data": {
      "text/plain": [
       "<Figure size 600x600 with 0 Axes>"
      ]
     },
     "metadata": {},
     "output_type": "display_data"
    },
    {
     "data": {
      "text/plain": [
       "<Figure size 600x600 with 0 Axes>"
      ]
     },
     "metadata": {},
     "output_type": "display_data"
    },
    {
     "data": {
      "text/plain": [
       "<Figure size 600x600 with 0 Axes>"
      ]
     },
     "metadata": {},
     "output_type": "display_data"
    },
    {
     "data": {
      "text/plain": [
       "<Figure size 600x600 with 0 Axes>"
      ]
     },
     "metadata": {},
     "output_type": "display_data"
    },
    {
     "data": {
      "text/plain": [
       "<Figure size 600x600 with 0 Axes>"
      ]
     },
     "metadata": {},
     "output_type": "display_data"
    },
    {
     "data": {
      "text/plain": [
       "<Figure size 600x600 with 0 Axes>"
      ]
     },
     "metadata": {},
     "output_type": "display_data"
    },
    {
     "data": {
      "text/plain": [
       "<Figure size 600x600 with 0 Axes>"
      ]
     },
     "metadata": {},
     "output_type": "display_data"
    },
    {
     "data": {
      "text/plain": [
       "<Figure size 600x600 with 0 Axes>"
      ]
     },
     "metadata": {},
     "output_type": "display_data"
    },
    {
     "data": {
      "text/plain": [
       "<Figure size 600x600 with 0 Axes>"
      ]
     },
     "metadata": {},
     "output_type": "display_data"
    }
   ],
   "source": [
    "df = pd.read_csv(settings.figures_dir  / 'semantic_pca.csv')\n",
    "df, mapper = prepare_data(df)\n",
    "sns.set_style('whitegrid', {\"grid.color\": \"ebf0f8ff\", \"grid.linewidth\": 1})\n",
    "plt.rcParams[\"font.family\"] = \"serif\"\n",
    "plt.rcParams[\"font.serif\"] = [font_type]\n",
    "plt.rcParams[\"font.size\"] = 14\n",
    "\n",
    "for organ in df.organ.unique():\n",
    "    model_file = settings.results_dir / 'pca' / f\"semantic_pca_{'_'.join(organ.split(' '))}.joblib\"\n",
    "    model = joblib.load(model_file)\n",
    "    tmp = df[df['organ'] == organ].copy()\n",
    "    tmp = tmp.rename({'pc_1': f\"PC 1 [{round(model.explained_variance_ratio_[0]*100)}%]\",\n",
    "                       'pc_2': f\"PC 2 [{round(model.explained_variance_ratio_[1]*100)}%]\"},\n",
    "                     axis=1)\n",
    "    g = sns.jointplot(data=tmp,\n",
    "                      x=f\"PC 1 [{round(model.explained_variance_ratio_[0]*100)}%]\",\n",
    "                      y=f\"PC 2 [{round(model.explained_variance_ratio_[1]*100)}%]\",\n",
    "                      hue=\"data\",\n",
    "                      kind=\"kde\",\n",
    "                      fill=True,\n",
    "                      alpha=0.4,\n",
    "                      marginal_kws={'common_norm': False},\n",
    "                      palette=cmap_qualitative,\n",
    "                      levels=10)\n",
    "    leg = g.figure.axes[0].get_legend()\n",
    "    leg.set_title(\"\")\n",
    "    sns.despine(left=True, bottom=True)\n",
    "    plt.tight_layout()\n",
    "    plt.savefig(settings.figures_dir / 'manuscript' / 'semantic_pca' / f'semantic_pca_{organ}.pdf')\n",
    "    plt.savefig(settings.figures_dir / 'manuscript' / 'semantic_pca' / f'semantic_pca_{organ}.png', dpi=300)\n",
    "    plt.clf()"
   ]
  },
  {
   "cell_type": "markdown",
   "metadata": {},
   "source": [
    "# plot PAI signal"
   ]
  },
  {
   "cell_type": "code",
   "execution_count": 9,
   "metadata": {
    "execution": {
     "iopub.execute_input": "2023-08-07T09:09:48.182470Z",
     "iopub.status.busy": "2023-08-07T09:09:48.182259Z",
     "iopub.status.idle": "2023-08-07T09:09:51.084155Z",
     "shell.execute_reply": "2023-08-07T09:09:51.083550Z"
    }
   },
   "outputs": [],
   "source": [
    "df = pd.read_csv(settings.figures_dir / 'pai_signal.csv')\n",
    "df, mapper = prepare_data(df)\n",
    "for tissue in df.tissue.unique():\n",
    "    tmp = df[df.tissue == tissue]\n",
    "    fig, _ = line(data_frame=tmp,\n",
    "                  x=mapper.get(\"wavelength\"),\n",
    "                  y=mapper.get('pai_signal'),\n",
    "                  facet_col=None,\n",
    "                  color=\"data\",\n",
    "                  template=\"plotly_white\",\n",
    "                  color_discrete_map=cmap_qualitative,\n",
    "                  width=500,\n",
    "                  category_orders=dict(data=['real', 'simulated', 'UNIT', 'cINN'])\n",
    "               )\n",
    "    font_size = 20\n",
    "    fig.update_layout(font=dict(size=font_size, family=font_type, color=\"#000000\"),\n",
    "                      legend=dict(orientation=\"h\", xanchor=\"center\", x=0.5, y=1, title=\"\"),\n",
    "                      margin=dict(l=20, r=10, t=10, b=20)\n",
    "                      )\n",
    "    fig.update_xaxes(title_font=dict(size=font_size, family=font_type))\n",
    "    fig.update_yaxes(title_font=dict(size=font_size, family=font_type))\n",
    "    fig.for_each_annotation(lambda a: a.update(text=a.text.split(\"=\")[-1]))\n",
    "    fig.write_image(settings.figures_dir / 'manuscript' / f'pai_signal_{tissue}.pdf')\n",
    "    fig.write_image(settings.figures_dir / 'manuscript' / f'pai_signal_{tissue}.svg')\n",
    "    fig.write_image(settings.figures_dir / 'manuscript' / f'pai_signal_{tissue}.png', scale=2)"
   ]
  },
  {
   "cell_type": "markdown",
   "metadata": {},
   "source": [
    "# plot PAI metrics"
   ]
  },
  {
   "cell_type": "code",
   "execution_count": 10,
   "metadata": {
    "execution": {
     "iopub.execute_input": "2023-08-07T09:09:51.087799Z",
     "iopub.status.busy": "2023-08-07T09:09:51.087474Z",
     "iopub.status.idle": "2023-08-07T09:09:51.091359Z",
     "shell.execute_reply": "2023-08-07T09:09:51.090979Z"
    }
   },
   "outputs": [],
   "source": [
    "# metrics_file = settings.results_dir / 'rf_pa' / 'rf_classifier_metrics.csv'\n",
    "# df = pd.read_csv(metrics_file, index_col=None, header=[0])\n",
    "# df = df.melt(id_vars=[\"data\"], value_name=\"metric value\", var_name=\"metric\")\n",
    "# metric_df, mapper, real_base = compute_metric_diff(df=df)\n",
    "# fig = px.bar(\n",
    "#     data_frame=metric_df,\n",
    "#     x=\"data\",\n",
    "#     y=mapper.get('metric diff'),\n",
    "#     color=\"data\",\n",
    "#     facet_col=\"metric\",\n",
    "#     color_discrete_map=cmap_qualitative,\n",
    "#     template=\"plotly_white\",\n",
    "# )\n",
    "# fig.add_hline(\n",
    "#     y=0,\n",
    "#     line_color=cmap_qualitative.get('simulated'),\n",
    "#     annotation_font={'color': cmap_qualitative.get('simulated')},\n",
    "#     line_dash=\"dash\",\n",
    "#     line_width=4,\n",
    "#     annotation_text=\"\",\n",
    "#     annotation_position=\"bottom right\",\n",
    "#     annotation_font_size=14,\n",
    "#     annotation_font_color=cmap_qualitative.get('simulated'),\n",
    "#     row=\"all\",\n",
    "#     col=\"all\"\n",
    "#     )\n",
    "# font_size = 28\n",
    "# fig.update_xaxes(title_font=dict(size=font_size, family=font_type),\n",
    "#                  tickangle=270,\n",
    "#                  showticklabels=False,\n",
    "#                  title=\"\"\n",
    "#                  )\n",
    "#\n",
    "# fig.update_layout(font=dict(size=font_size, family=font_type, color=\"#000000\"),\n",
    "#                   legend=dict(orientation=\"h\", xanchor=\"center\", x=0.5, y=0., title=\"\"),\n",
    "#                   margin=dict(l=0, r=0, t=30, b=0)\n",
    "#                   )\n",
    "# fig.update_xaxes(title_font=dict(size=font_size, family=font_type), tickangle=270, title=\"\")\n",
    "# fig.update_yaxes(title_font=dict(size=font_size, family=font_type),\n",
    "#                  range=(-0.04, 0.24)\n",
    "#                  )\n",
    "# # fig.for_each_yaxis(lambda yaxis: yaxis.update(showticklabels=True))\n",
    "# fig.for_each_annotation(lambda a: a.update(text=a.text.split(\"=\")[-1]))\n",
    "# fig.write_image(settings.figures_dir / 'manuscript' / 'pai_metrics.pdf')\n",
    "# fig.write_image(settings.figures_dir / 'manuscript' / 'pai_metrics.svg')\n",
    "# fig.write_image(settings.figures_dir / 'manuscript' / 'pai_metrics.png', scale=2)"
   ]
  },
  {
   "cell_type": "markdown",
   "metadata": {},
   "source": [
    "# plot PAI signal differences"
   ]
  },
  {
   "cell_type": "code",
   "execution_count": 11,
   "metadata": {
    "execution": {
     "iopub.execute_input": "2023-08-07T09:09:51.093397Z",
     "iopub.status.busy": "2023-08-07T09:09:51.093105Z",
     "iopub.status.idle": "2023-08-07T09:09:51.497520Z",
     "shell.execute_reply": "2023-08-07T09:09:51.496836Z"
    }
   },
   "outputs": [],
   "source": [
    "df = pd.read_csv(settings.figures_dir / 'pai_diff.csv')\n",
    "if 'difference [%]' in df.columns:\n",
    "    df['difference [%]'] *= 100\n",
    "df, mapper = prepare_data(df)\n",
    "tissues = df.tissue.unique()\n",
    "for tissue in tissues:\n",
    "    tmp = df[df.tissue==tissue]\n",
    "    fig = px.violin(data_frame=tmp,\n",
    "                 x=\"data\",\n",
    "                 y=mapper.get('difference'),\n",
    "                 color=\"data\",\n",
    "                 color_discrete_map=cmap_qualitative,\n",
    "                 template=\"plotly_white\",\n",
    "                 category_orders=dict(tissue=['vein', 'artery'], data=['real - simulated', 'real - UNIT', 'real - cINN']),\n",
    "                 facet_col_spacing=0.05,\n",
    "                    width=600,\n",
    "                    height=500,\n",
    "                    points=\"all\"\n",
    "                 )\n",
    "    fig.update_traces(scalemode='width', meanline_visible=True)\n",
    "    TRACE_INDEX = []\n",
    "    def split_scale_group(tr):\n",
    "        if TRACE_INDEX:\n",
    "            TRACE_INDEX.append(TRACE_INDEX[-1] + 1)\n",
    "        else:\n",
    "            TRACE_INDEX.append(0)\n",
    "        tr.scalegroup = TRACE_INDEX[-1]\n",
    "        return tr\n",
    "    fig.for_each_trace(split_scale_group)\n",
    "    fig.update_traces(line=dict(width=4))\n",
    "    font_size = 24\n",
    "    fig.update_layout(font=dict(size=font_size, family=font_type, color=\"#000000\"),\n",
    "                      legend=dict(orientation=\"h\", xanchor=\"center\", x=0.5, y=0., title=\"\", font_size=font_size),\n",
    "                      margin=dict(l=0, r=0, t=0, b=0),\n",
    "                      )\n",
    "    fig.update_xaxes(title_font=dict(size=font_size, family=font_type),\n",
    "                     tickangle=0,\n",
    "                     showticklabels=False,\n",
    "                     title=\"\"\n",
    "                     )\n",
    "    fig.update_yaxes(title_font=dict(size=font_size, family=font_type))\n",
    "    fig.for_each_annotation(lambda a: a.update(text=a.text.split(\"=\")[-1]))\n",
    "    fig.write_image(settings.figures_dir / 'manuscript' / f'pai_diff_{tissue}.pdf')\n",
    "    fig.write_image(settings.figures_dir / 'manuscript' / f'pai_diff_{tissue}.svg')\n",
    "    fig.write_image(settings.figures_dir / 'manuscript' / f'pai_diff_{tissue}.png', scale=2)"
   ]
  },
  {
   "cell_type": "markdown",
   "metadata": {},
   "source": [
    "# plot PAI PCA"
   ]
  },
  {
   "cell_type": "code",
   "execution_count": 12,
   "metadata": {
    "execution": {
     "iopub.execute_input": "2023-08-07T09:09:51.500374Z",
     "iopub.status.busy": "2023-08-07T09:09:51.500074Z",
     "iopub.status.idle": "2023-08-07T09:11:15.088971Z",
     "shell.execute_reply": "2023-08-07T09:11:15.088516Z"
    }
   },
   "outputs": [
    {
     "data": {
      "image/png": "[encoded data removed]",
      "text/plain": [
       "<Figure size 600x600 with 3 Axes>"
      ]
     },
     "metadata": {},
     "output_type": "display_data"
    },
    {
     "data": {
      "image/png": "[encoded data removed]",
      "text/plain": [
       "<Figure size 600x600 with 3 Axes>"
      ]
     },
     "metadata": {},
     "output_type": "display_data"
    }
   ],
   "source": [
    "df = pd.read_csv(settings.results_dir / 'pca' / 'pai_pca.csv')\n",
    "# df = df[df['data'] != 'unit']\n",
    "df, mapper = prepare_data(df)\n",
    "sns.set_style('whitegrid', {\"grid.color\": \"ebf0f8ff\", \"grid.linewidth\": 1})\n",
    "plt.rcParams[\"font.family\"] = \"serif\"\n",
    "plt.rcParams[\"font.serif\"] = [font_type]\n",
    "plt.rcParams[\"font.size\"] = 20\n",
    "\n",
    "for tissue in df.tissue.unique():\n",
    "    model_file = settings.results_dir / 'pca' / f'pai_pca_{tissue}.joblib'\n",
    "    model = joblib.load(model_file)\n",
    "    tmp = df[df['tissue'] == tissue].copy()\n",
    "    tmp = tmp.rename({'pc_1': f\"PC 1 [{round(model.explained_variance_ratio_[0]*100)}%]\",\n",
    "                       'pc_2': f\"PC 2 [{round(model.explained_variance_ratio_[1]*100)}%]\"},\n",
    "                     axis=1)\n",
    "    g = sns.jointplot(data=tmp,\n",
    "                      x=f\"PC 1 [{round(model.explained_variance_ratio_[0]*100)}%]\",\n",
    "                      y=f\"PC 2 [{round(model.explained_variance_ratio_[1]*100)}%]\",\n",
    "                      hue=\"data\",\n",
    "                      kind=\"kde\",\n",
    "                      fill=True,\n",
    "                      alpha=0.4,\n",
    "                      marginal_kws={'common_norm': False},\n",
    "                      palette=cmap_qualitative,\n",
    "                      levels=10)\n",
    "    leg.set_title(\"\")\n",
    "    plt.xlim(-0.3, 0.3)\n",
    "    plt.ylim(-0.1, 0.1)\n",
    "    sns.despine(left=True, bottom=True)\n",
    "    plt.tight_layout()\n",
    "    plt.savefig(settings.figures_dir / 'manuscript' / f'pai_pca_{tissue}.pdf')\n",
    "    plt.savefig(settings.figures_dir / 'manuscript' / f'pai_pca_{tissue}.svg')\n",
    "    plt.savefig(settings.figures_dir / 'manuscript' / f'pai_pca_{tissue}.png', dpi=300)"
   ]
  },
  {
   "cell_type": "markdown",
   "metadata": {},
   "source": [
    "# plot PAI confusion matrices"
   ]
  },
  {
   "cell_type": "code",
   "execution_count": 13,
   "metadata": {
    "execution": {
     "iopub.execute_input": "2023-08-07T09:11:15.091580Z",
     "iopub.status.busy": "2023-08-07T09:11:15.091464Z",
     "iopub.status.idle": "2023-08-07T09:11:15.934546Z",
     "shell.execute_reply": "2023-08-07T09:11:15.933828Z"
    }
   },
   "outputs": [],
   "source": [
    "stages = [\n",
    "    'real',\n",
    "    'simulated',\n",
    "    'cINN',\n",
    "    'UNIT'\n",
    "]\n",
    "mapping = get_pa_label_mapping()\n",
    "for stage in stages:\n",
    "    file = settings.results_dir / 'rf_pa' / f\"rf_pa_classifier_matrix_{stage}.npz\"\n",
    "    data = np.load(file)\n",
    "    matrix = data['matrix']\n",
    "    labels = data['labels']\n",
    "    names = [mapping.get(l) for l in labels]\n",
    "    names = [' '.join(n.split('_')) for n in names]\n",
    "    fig = px.imshow(matrix,\n",
    "                    text_auto='.2f',\n",
    "                    color_continuous_scale=cmap_quantitative_list.get(stage),\n",
    "                    zmin=0,\n",
    "                    zmax=1,\n",
    "                    template='plotly_white',\n",
    "                    labels={'small_bowel': 'small bowel'}\n",
    "                    )\n",
    "    axis_ticks = dict(\n",
    "            tickmode='array',\n",
    "            tickvals=np.arange(0, len(names)),\n",
    "            ticktext=names\n",
    "        )\n",
    "    fig.update_layout(\n",
    "        xaxis=axis_ticks,\n",
    "        yaxis=axis_ticks,\n",
    "        coloraxis_colorbar=dict(\n",
    "            title=dict(text=\"\", side=\"right\"),\n",
    "            x=0.85,\n",
    "            ticks=\"outside\",\n",
    "            ticksuffix=\"\",\n",
    "        )\n",
    "    )\n",
    "    fig.update_xaxes(title=\"predicted class\", title_font=dict(size=40, family=font_type))\n",
    "    fig.update_yaxes(title=\"true class\", title_font=dict(size=40, family=font_type))\n",
    "    fig.update_layout(font=dict(size=40, family=font_type, color=\"#000000\"))\n",
    "    fig.write_image(settings.figures_dir / 'manuscript' / f'pai_rf_confusion_matrix_pa_{stage}.pdf')\n",
    "    fig.write_image(settings.figures_dir / 'manuscript' / f'pai_rf_confusion_matrix_pa_{stage}.svg')\n",
    "    fig.write_image(settings.figures_dir / 'manuscript' / f'pai_rf_confusion_matrix_pa_{stage}.png', scale=2)"
   ]
  },
  {
   "cell_type": "code",
   "execution_count": null,
   "metadata": {},
   "outputs": [],
   "source": []
  }
 ],
 "metadata": {
  "kernelspec": {
   "display_name": "Python 3 (ipykernel)",
   "language": "python",
   "name": "python3"
  },
  "language_info": {
   "codemirror_mode": {
    "name": "ipython",
    "version": 3
   },
   "file_extension": ".py",
   "mimetype": "text/x-python",
   "name": "python",
   "nbconvert_exporter": "python",
   "pygments_lexer": "ipython3",
   "version": "3.8.10"
  }
 },
 "nbformat": 4,
 "nbformat_minor": 1
}